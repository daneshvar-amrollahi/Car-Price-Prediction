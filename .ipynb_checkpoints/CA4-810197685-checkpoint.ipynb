{
 "cells": [
  {
   "cell_type": "code",
   "execution_count": 142,
   "metadata": {},
   "outputs": [],
   "source": [
    "import pandas as pd"
   ]
  },
  {
   "cell_type": "code",
   "execution_count": 177,
   "metadata": {},
   "outputs": [],
   "source": [
    "df = pd.read_csv(\"../data/vehicles.csv\")"
   ]
  },
  {
   "cell_type": "code",
   "execution_count": 144,
   "metadata": {
    "scrolled": false
   },
   "outputs": [
    {
     "data": {
      "text/html": [
       "<div>\n",
       "<style scoped>\n",
       "    .dataframe tbody tr th:only-of-type {\n",
       "        vertical-align: middle;\n",
       "    }\n",
       "\n",
       "    .dataframe tbody tr th {\n",
       "        vertical-align: top;\n",
       "    }\n",
       "\n",
       "    .dataframe thead th {\n",
       "        text-align: right;\n",
       "    }\n",
       "</style>\n",
       "<table border=\"1\" class=\"dataframe\">\n",
       "  <thead>\n",
       "    <tr style=\"text-align: right;\">\n",
       "      <th></th>\n",
       "      <th>brand</th>\n",
       "      <th>category</th>\n",
       "      <th>created_at</th>\n",
       "      <th>description</th>\n",
       "      <th>image_count</th>\n",
       "      <th>mileage</th>\n",
       "      <th>price</th>\n",
       "      <th>title</th>\n",
       "      <th>year</th>\n",
       "    </tr>\n",
       "  </thead>\n",
       "  <tbody>\n",
       "    <tr>\n",
       "      <th>0</th>\n",
       "      <td>NaN</td>\n",
       "      <td>heavy</td>\n",
       "      <td>Tuesday 07PM</td>\n",
       "      <td>سریال 43j$NUMبدون شکستگی سه حلقه لاستیک نو یک ...</td>\n",
       "      <td>4</td>\n",
       "      <td>NaN</td>\n",
       "      <td>-1</td>\n",
       "      <td>لودر کاتر پیلار 950</td>\n",
       "      <td>NaN</td>\n",
       "    </tr>\n",
       "    <tr>\n",
       "      <th>1</th>\n",
       "      <td>سایر</td>\n",
       "      <td>light</td>\n",
       "      <td>Wednesday 04AM</td>\n",
       "      <td>دوگانه ال پی جی بیمه با تخفیف دارد \\nتودوزی نو...</td>\n",
       "      <td>3</td>\n",
       "      <td>180000.0</td>\n",
       "      <td>-1</td>\n",
       "      <td>پاترول شش سیلندر چهار درب</td>\n",
       "      <td>1366</td>\n",
       "    </tr>\n",
       "    <tr>\n",
       "      <th>2</th>\n",
       "      <td>پژو ۴۰۵::Peugeot 405</td>\n",
       "      <td>light</td>\n",
       "      <td>Wednesday 11AM</td>\n",
       "      <td>پژو 2000فنی تازه تعمیر بدنه بدون خطو خش تخیف ب...</td>\n",
       "      <td>0</td>\n",
       "      <td>290000.0</td>\n",
       "      <td>8500000</td>\n",
       "      <td>پژو مدل 81 مشکی</td>\n",
       "      <td>1381</td>\n",
       "    </tr>\n",
       "    <tr>\n",
       "      <th>3</th>\n",
       "      <td>نیسان::Nissan</td>\n",
       "      <td>light</td>\n",
       "      <td>Wednesday 01PM</td>\n",
       "      <td>سلام.\\nماشین کاملا سالم همه چی فابریک متور زد ...</td>\n",
       "      <td>3</td>\n",
       "      <td>175000.0</td>\n",
       "      <td>19500000</td>\n",
       "      <td>پاترول 2در</td>\n",
       "      <td>1372</td>\n",
       "    </tr>\n",
       "    <tr>\n",
       "      <th>4</th>\n",
       "      <td>سمند::Samand</td>\n",
       "      <td>light</td>\n",
       "      <td>Thursday 07AM</td>\n",
       "      <td>سمند ال ایکس بدون رنگ تمامی سرویس ها انجام شده...</td>\n",
       "      <td>4</td>\n",
       "      <td>80000.0</td>\n",
       "      <td>23900000</td>\n",
       "      <td>سمند دوگانه کارخانه</td>\n",
       "      <td>1391</td>\n",
       "    </tr>\n",
       "    <tr>\n",
       "      <th>...</th>\n",
       "      <td>...</td>\n",
       "      <td>...</td>\n",
       "      <td>...</td>\n",
       "      <td>...</td>\n",
       "      <td>...</td>\n",
       "      <td>...</td>\n",
       "      <td>...</td>\n",
       "      <td>...</td>\n",
       "      <td>...</td>\n",
       "    </tr>\n",
       "    <tr>\n",
       "      <th>130438</th>\n",
       "      <td>NaN</td>\n",
       "      <td>heavy</td>\n",
       "      <td>Wednesday 03PM</td>\n",
       "      <td>بادسان فوق بیرنگ سفید رنگ بیمه تابرج 3.96 تخفی...</td>\n",
       "      <td>2</td>\n",
       "      <td>NaN</td>\n",
       "      <td>48000000</td>\n",
       "      <td>بادسان 8b14 مدل83</td>\n",
       "      <td>NaN</td>\n",
       "    </tr>\n",
       "    <tr>\n",
       "      <th>130439</th>\n",
       "      <td>NaN</td>\n",
       "      <td>heavy</td>\n",
       "      <td>Wednesday 06PM</td>\n",
       "      <td>باسلام .تراکتورازصفری دست خودم بوده.سالم.ودارا...</td>\n",
       "      <td>4</td>\n",
       "      <td>NaN</td>\n",
       "      <td>-1</td>\n",
       "      <td>تراکتورگلدونی ۲۳۸ایتالیا</td>\n",
       "      <td>NaN</td>\n",
       "    </tr>\n",
       "    <tr>\n",
       "      <th>130440</th>\n",
       "      <td>سمند::Samand</td>\n",
       "      <td>light</td>\n",
       "      <td>Wednesday 06PM</td>\n",
       "      <td>ماشینم تصادفیه با خریدار توافق میکنم سر قیمتش</td>\n",
       "      <td>3</td>\n",
       "      <td>20000.0</td>\n",
       "      <td>-1</td>\n",
       "      <td>خودرو سمند تصادفی مدل92</td>\n",
       "      <td>1392</td>\n",
       "    </tr>\n",
       "    <tr>\n",
       "      <th>130441</th>\n",
       "      <td>پراید صندوق‌دار::Pride</td>\n",
       "      <td>light</td>\n",
       "      <td>Thursday 03PM</td>\n",
       "      <td>سند۲ برگ،بیمه تا برج$NUMتخفیفات بیمه 15 سال،مع...</td>\n",
       "      <td>4</td>\n",
       "      <td>123000.0</td>\n",
       "      <td>6900000</td>\n",
       "      <td>پراید 79 بسیار سالم</td>\n",
       "      <td>1379</td>\n",
       "    </tr>\n",
       "    <tr>\n",
       "      <th>130442</th>\n",
       "      <td>پراید صندوق‌دار::Pride</td>\n",
       "      <td>light</td>\n",
       "      <td>Friday 04PM</td>\n",
       "      <td>پراید دوگانه کارخانه میباشد و کم کارکرد.روکش ....</td>\n",
       "      <td>3</td>\n",
       "      <td>43000.0</td>\n",
       "      <td>17400000</td>\n",
       "      <td>پراید دوگانه کارخانه مدل93</td>\n",
       "      <td>1393</td>\n",
       "    </tr>\n",
       "  </tbody>\n",
       "</table>\n",
       "<p>130443 rows × 9 columns</p>\n",
       "</div>"
      ],
      "text/plain": [
       "                         brand category      created_at  \\\n",
       "0                          NaN    heavy    Tuesday 07PM   \n",
       "1                         سایر    light  Wednesday 04AM   \n",
       "2         پژو ۴۰۵::Peugeot 405    light  Wednesday 11AM   \n",
       "3                نیسان::Nissan    light  Wednesday 01PM   \n",
       "4                 سمند::Samand    light   Thursday 07AM   \n",
       "...                        ...      ...             ...   \n",
       "130438                     NaN    heavy  Wednesday 03PM   \n",
       "130439                     NaN    heavy  Wednesday 06PM   \n",
       "130440            سمند::Samand    light  Wednesday 06PM   \n",
       "130441  پراید صندوق‌دار::Pride    light   Thursday 03PM   \n",
       "130442  پراید صندوق‌دار::Pride    light     Friday 04PM   \n",
       "\n",
       "                                              description  image_count  \\\n",
       "0       سریال 43j$NUMبدون شکستگی سه حلقه لاستیک نو یک ...            4   \n",
       "1       دوگانه ال پی جی بیمه با تخفیف دارد \\nتودوزی نو...            3   \n",
       "2       پژو 2000فنی تازه تعمیر بدنه بدون خطو خش تخیف ب...            0   \n",
       "3       سلام.\\nماشین کاملا سالم همه چی فابریک متور زد ...            3   \n",
       "4       سمند ال ایکس بدون رنگ تمامی سرویس ها انجام شده...            4   \n",
       "...                                                   ...          ...   \n",
       "130438  بادسان فوق بیرنگ سفید رنگ بیمه تابرج 3.96 تخفی...            2   \n",
       "130439  باسلام .تراکتورازصفری دست خودم بوده.سالم.ودارا...            4   \n",
       "130440      ماشینم تصادفیه با خریدار توافق میکنم سر قیمتش            3   \n",
       "130441  سند۲ برگ،بیمه تا برج$NUMتخفیفات بیمه 15 سال،مع...            4   \n",
       "130442  پراید دوگانه کارخانه میباشد و کم کارکرد.روکش ....            3   \n",
       "\n",
       "         mileage     price                       title  year  \n",
       "0            NaN        -1         لودر کاتر پیلار 950   NaN  \n",
       "1       180000.0        -1   پاترول شش سیلندر چهار درب  1366  \n",
       "2       290000.0   8500000             پژو مدل 81 مشکی  1381  \n",
       "3       175000.0  19500000                  پاترول 2در  1372  \n",
       "4        80000.0  23900000         سمند دوگانه کارخانه  1391  \n",
       "...          ...       ...                         ...   ...  \n",
       "130438       NaN  48000000           بادسان 8b14 مدل83   NaN  \n",
       "130439       NaN        -1    تراکتورگلدونی ۲۳۸ایتالیا   NaN  \n",
       "130440   20000.0        -1     خودرو سمند تصادفی مدل92  1392  \n",
       "130441  123000.0   6900000         پراید 79 بسیار سالم  1379  \n",
       "130442   43000.0  17400000  پراید دوگانه کارخانه مدل93  1393  \n",
       "\n",
       "[130443 rows x 9 columns]"
      ]
     },
     "execution_count": 144,
     "metadata": {},
     "output_type": "execute_result"
    }
   ],
   "source": [
    "df"
   ]
  },
  {
   "cell_type": "code",
   "execution_count": 145,
   "metadata": {
    "scrolled": true
   },
   "outputs": [
    {
     "data": {
      "text/html": [
       "<div>\n",
       "<style scoped>\n",
       "    .dataframe tbody tr th:only-of-type {\n",
       "        vertical-align: middle;\n",
       "    }\n",
       "\n",
       "    .dataframe tbody tr th {\n",
       "        vertical-align: top;\n",
       "    }\n",
       "\n",
       "    .dataframe thead th {\n",
       "        text-align: right;\n",
       "    }\n",
       "</style>\n",
       "<table border=\"1\" class=\"dataframe\">\n",
       "  <thead>\n",
       "    <tr style=\"text-align: right;\">\n",
       "      <th></th>\n",
       "      <th>image_count</th>\n",
       "      <th>mileage</th>\n",
       "      <th>price</th>\n",
       "    </tr>\n",
       "  </thead>\n",
       "  <tbody>\n",
       "    <tr>\n",
       "      <th>count</th>\n",
       "      <td>130443.000000</td>\n",
       "      <td>120451.000000</td>\n",
       "      <td>1.304430e+05</td>\n",
       "    </tr>\n",
       "    <tr>\n",
       "      <th>mean</th>\n",
       "      <td>1.865527</td>\n",
       "      <td>100862.291944</td>\n",
       "      <td>2.224718e+07</td>\n",
       "    </tr>\n",
       "    <tr>\n",
       "      <th>std</th>\n",
       "      <td>1.471163</td>\n",
       "      <td>98368.470916</td>\n",
       "      <td>3.079805e+07</td>\n",
       "    </tr>\n",
       "    <tr>\n",
       "      <th>min</th>\n",
       "      <td>0.000000</td>\n",
       "      <td>0.000000</td>\n",
       "      <td>-1.000000e+00</td>\n",
       "    </tr>\n",
       "    <tr>\n",
       "      <th>25%</th>\n",
       "      <td>0.000000</td>\n",
       "      <td>19000.000000</td>\n",
       "      <td>7.400000e+06</td>\n",
       "    </tr>\n",
       "    <tr>\n",
       "      <th>50%</th>\n",
       "      <td>2.000000</td>\n",
       "      <td>75000.000000</td>\n",
       "      <td>1.450000e+07</td>\n",
       "    </tr>\n",
       "    <tr>\n",
       "      <th>75%</th>\n",
       "      <td>3.000000</td>\n",
       "      <td>160000.000000</td>\n",
       "      <td>2.500000e+07</td>\n",
       "    </tr>\n",
       "    <tr>\n",
       "      <th>max</th>\n",
       "      <td>14.000000</td>\n",
       "      <td>500000.000000</td>\n",
       "      <td>4.000000e+08</td>\n",
       "    </tr>\n",
       "  </tbody>\n",
       "</table>\n",
       "</div>"
      ],
      "text/plain": [
       "         image_count        mileage         price\n",
       "count  130443.000000  120451.000000  1.304430e+05\n",
       "mean        1.865527  100862.291944  2.224718e+07\n",
       "std         1.471163   98368.470916  3.079805e+07\n",
       "min         0.000000       0.000000 -1.000000e+00\n",
       "25%         0.000000   19000.000000  7.400000e+06\n",
       "50%         2.000000   75000.000000  1.450000e+07\n",
       "75%         3.000000  160000.000000  2.500000e+07\n",
       "max        14.000000  500000.000000  4.000000e+08"
      ]
     },
     "execution_count": 145,
     "metadata": {},
     "output_type": "execute_result"
    }
   ],
   "source": [
    "df.describe()"
   ]
  },
  {
   "cell_type": "markdown",
   "metadata": {},
   "source": [
    "First, we drop the rows with **price = -1**:"
   ]
  },
  {
   "cell_type": "code",
   "execution_count": 146,
   "metadata": {},
   "outputs": [],
   "source": [
    "df = df[df.price != -1]"
   ]
  },
  {
   "cell_type": "code",
   "execution_count": 147,
   "metadata": {
    "scrolled": true
   },
   "outputs": [
    {
     "data": {
      "text/html": [
       "<div>\n",
       "<style scoped>\n",
       "    .dataframe tbody tr th:only-of-type {\n",
       "        vertical-align: middle;\n",
       "    }\n",
       "\n",
       "    .dataframe tbody tr th {\n",
       "        vertical-align: top;\n",
       "    }\n",
       "\n",
       "    .dataframe thead th {\n",
       "        text-align: right;\n",
       "    }\n",
       "</style>\n",
       "<table border=\"1\" class=\"dataframe\">\n",
       "  <thead>\n",
       "    <tr style=\"text-align: right;\">\n",
       "      <th></th>\n",
       "      <th>brand</th>\n",
       "      <th>category</th>\n",
       "      <th>created_at</th>\n",
       "      <th>description</th>\n",
       "      <th>image_count</th>\n",
       "      <th>mileage</th>\n",
       "      <th>price</th>\n",
       "      <th>title</th>\n",
       "      <th>year</th>\n",
       "    </tr>\n",
       "  </thead>\n",
       "  <tbody>\n",
       "    <tr>\n",
       "      <th>2</th>\n",
       "      <td>پژو ۴۰۵::Peugeot 405</td>\n",
       "      <td>light</td>\n",
       "      <td>Wednesday 11AM</td>\n",
       "      <td>پژو 2000فنی تازه تعمیر بدنه بدون خطو خش تخیف ب...</td>\n",
       "      <td>0</td>\n",
       "      <td>290000.0</td>\n",
       "      <td>8500000</td>\n",
       "      <td>پژو مدل 81 مشکی</td>\n",
       "      <td>1381</td>\n",
       "    </tr>\n",
       "    <tr>\n",
       "      <th>3</th>\n",
       "      <td>نیسان::Nissan</td>\n",
       "      <td>light</td>\n",
       "      <td>Wednesday 01PM</td>\n",
       "      <td>سلام.\\nماشین کاملا سالم همه چی فابریک متور زد ...</td>\n",
       "      <td>3</td>\n",
       "      <td>175000.0</td>\n",
       "      <td>19500000</td>\n",
       "      <td>پاترول 2در</td>\n",
       "      <td>1372</td>\n",
       "    </tr>\n",
       "    <tr>\n",
       "      <th>4</th>\n",
       "      <td>سمند::Samand</td>\n",
       "      <td>light</td>\n",
       "      <td>Thursday 07AM</td>\n",
       "      <td>سمند ال ایکس بدون رنگ تمامی سرویس ها انجام شده...</td>\n",
       "      <td>4</td>\n",
       "      <td>80000.0</td>\n",
       "      <td>23900000</td>\n",
       "      <td>سمند دوگانه کارخانه</td>\n",
       "      <td>1391</td>\n",
       "    </tr>\n",
       "    <tr>\n",
       "      <th>5</th>\n",
       "      <td>پژو ۴۰۵::Peugeot 405</td>\n",
       "      <td>light</td>\n",
       "      <td>Thursday 08AM</td>\n",
       "      <td>بیمه یکسال ده سال تخفیف دور رنگ شاسی پلمپ سالم</td>\n",
       "      <td>3</td>\n",
       "      <td>125000.0</td>\n",
       "      <td>8500000</td>\n",
       "      <td>پژو405 مدل84</td>\n",
       "      <td>1384</td>\n",
       "    </tr>\n",
       "    <tr>\n",
       "      <th>6</th>\n",
       "      <td>ام‌وی‌ام::MVM</td>\n",
       "      <td>light</td>\n",
       "      <td>Thursday 08AM</td>\n",
       "      <td>ام وی ام چهار سیلندر مدل 93 فنی سالم بدون رنگ ...</td>\n",
       "      <td>2</td>\n",
       "      <td>11000.0</td>\n",
       "      <td>18500000</td>\n",
       "      <td>ام وی ام 110 چهار سیلندر</td>\n",
       "      <td>1393</td>\n",
       "    </tr>\n",
       "    <tr>\n",
       "      <th>...</th>\n",
       "      <td>...</td>\n",
       "      <td>...</td>\n",
       "      <td>...</td>\n",
       "      <td>...</td>\n",
       "      <td>...</td>\n",
       "      <td>...</td>\n",
       "      <td>...</td>\n",
       "      <td>...</td>\n",
       "      <td>...</td>\n",
       "    </tr>\n",
       "    <tr>\n",
       "      <th>130435</th>\n",
       "      <td>تندر ۹۰::Tondar 90</td>\n",
       "      <td>light</td>\n",
       "      <td>Tuesday 02PM</td>\n",
       "      <td>فوق‌العاده سالم بدون رنگ دزدگیر ماجیکار شیشه ه...</td>\n",
       "      <td>2</td>\n",
       "      <td>173000.0</td>\n",
       "      <td>30000000</td>\n",
       "      <td>ال۹۰ E2</td>\n",
       "      <td>1390</td>\n",
       "    </tr>\n",
       "    <tr>\n",
       "      <th>130436</th>\n",
       "      <td>پراید صندوق‌دار::Pride</td>\n",
       "      <td>light</td>\n",
       "      <td>Tuesday 05PM</td>\n",
       "      <td>مدل 84 تمیز. بدون رنگ. سیستم صوتی. رینگ و لاست...</td>\n",
       "      <td>3</td>\n",
       "      <td>140000.0</td>\n",
       "      <td>11000000</td>\n",
       "      <td>پراید مدل 84 بدون رنگ</td>\n",
       "      <td>1384</td>\n",
       "    </tr>\n",
       "    <tr>\n",
       "      <th>130438</th>\n",
       "      <td>NaN</td>\n",
       "      <td>heavy</td>\n",
       "      <td>Wednesday 03PM</td>\n",
       "      <td>بادسان فوق بیرنگ سفید رنگ بیمه تابرج 3.96 تخفی...</td>\n",
       "      <td>2</td>\n",
       "      <td>NaN</td>\n",
       "      <td>48000000</td>\n",
       "      <td>بادسان 8b14 مدل83</td>\n",
       "      <td>NaN</td>\n",
       "    </tr>\n",
       "    <tr>\n",
       "      <th>130441</th>\n",
       "      <td>پراید صندوق‌دار::Pride</td>\n",
       "      <td>light</td>\n",
       "      <td>Thursday 03PM</td>\n",
       "      <td>سند۲ برگ،بیمه تا برج$NUMتخفیفات بیمه 15 سال،مع...</td>\n",
       "      <td>4</td>\n",
       "      <td>123000.0</td>\n",
       "      <td>6900000</td>\n",
       "      <td>پراید 79 بسیار سالم</td>\n",
       "      <td>1379</td>\n",
       "    </tr>\n",
       "    <tr>\n",
       "      <th>130442</th>\n",
       "      <td>پراید صندوق‌دار::Pride</td>\n",
       "      <td>light</td>\n",
       "      <td>Friday 04PM</td>\n",
       "      <td>پراید دوگانه کارخانه میباشد و کم کارکرد.روکش ....</td>\n",
       "      <td>3</td>\n",
       "      <td>43000.0</td>\n",
       "      <td>17400000</td>\n",
       "      <td>پراید دوگانه کارخانه مدل93</td>\n",
       "      <td>1393</td>\n",
       "    </tr>\n",
       "  </tbody>\n",
       "</table>\n",
       "<p>110054 rows × 9 columns</p>\n",
       "</div>"
      ],
      "text/plain": [
       "                         brand category      created_at  \\\n",
       "2         پژو ۴۰۵::Peugeot 405    light  Wednesday 11AM   \n",
       "3                نیسان::Nissan    light  Wednesday 01PM   \n",
       "4                 سمند::Samand    light   Thursday 07AM   \n",
       "5         پژو ۴۰۵::Peugeot 405    light   Thursday 08AM   \n",
       "6                ام‌وی‌ام::MVM    light   Thursday 08AM   \n",
       "...                        ...      ...             ...   \n",
       "130435      تندر ۹۰::Tondar 90    light    Tuesday 02PM   \n",
       "130436  پراید صندوق‌دار::Pride    light    Tuesday 05PM   \n",
       "130438                     NaN    heavy  Wednesday 03PM   \n",
       "130441  پراید صندوق‌دار::Pride    light   Thursday 03PM   \n",
       "130442  پراید صندوق‌دار::Pride    light     Friday 04PM   \n",
       "\n",
       "                                              description  image_count  \\\n",
       "2       پژو 2000فنی تازه تعمیر بدنه بدون خطو خش تخیف ب...            0   \n",
       "3       سلام.\\nماشین کاملا سالم همه چی فابریک متور زد ...            3   \n",
       "4       سمند ال ایکس بدون رنگ تمامی سرویس ها انجام شده...            4   \n",
       "5          بیمه یکسال ده سال تخفیف دور رنگ شاسی پلمپ سالم            3   \n",
       "6       ام وی ام چهار سیلندر مدل 93 فنی سالم بدون رنگ ...            2   \n",
       "...                                                   ...          ...   \n",
       "130435  فوق‌العاده سالم بدون رنگ دزدگیر ماجیکار شیشه ه...            2   \n",
       "130436  مدل 84 تمیز. بدون رنگ. سیستم صوتی. رینگ و لاست...            3   \n",
       "130438  بادسان فوق بیرنگ سفید رنگ بیمه تابرج 3.96 تخفی...            2   \n",
       "130441  سند۲ برگ،بیمه تا برج$NUMتخفیفات بیمه 15 سال،مع...            4   \n",
       "130442  پراید دوگانه کارخانه میباشد و کم کارکرد.روکش ....            3   \n",
       "\n",
       "         mileage     price                       title  year  \n",
       "2       290000.0   8500000             پژو مدل 81 مشکی  1381  \n",
       "3       175000.0  19500000                  پاترول 2در  1372  \n",
       "4        80000.0  23900000         سمند دوگانه کارخانه  1391  \n",
       "5       125000.0   8500000                پژو405 مدل84  1384  \n",
       "6        11000.0  18500000    ام وی ام 110 چهار سیلندر  1393  \n",
       "...          ...       ...                         ...   ...  \n",
       "130435  173000.0  30000000                     ال۹۰ E2  1390  \n",
       "130436  140000.0  11000000       پراید مدل 84 بدون رنگ  1384  \n",
       "130438       NaN  48000000           بادسان 8b14 مدل83   NaN  \n",
       "130441  123000.0   6900000         پراید 79 بسیار سالم  1379  \n",
       "130442   43000.0  17400000  پراید دوگانه کارخانه مدل93  1393  \n",
       "\n",
       "[110054 rows x 9 columns]"
      ]
     },
     "execution_count": 147,
     "metadata": {},
     "output_type": "execute_result"
    }
   ],
   "source": [
    "df"
   ]
  },
  {
   "cell_type": "code",
   "execution_count": 148,
   "metadata": {
    "scrolled": false
   },
   "outputs": [
    {
     "data": {
      "text/plain": [
       "brand           object\n",
       "category        object\n",
       "created_at      object\n",
       "description     object\n",
       "image_count      int64\n",
       "mileage        float64\n",
       "price            int64\n",
       "title           object\n",
       "year            object\n",
       "dtype: object"
      ]
     },
     "execution_count": 148,
     "metadata": {},
     "output_type": "execute_result"
    }
   ],
   "source": [
    "df.dtypes"
   ]
  },
  {
   "cell_type": "markdown",
   "metadata": {},
   "source": [
    "### Replacing NaN values:"
   ]
  },
  {
   "cell_type": "code",
   "execution_count": 149,
   "metadata": {
    "scrolled": true
   },
   "outputs": [
    {
     "name": "stdout",
     "output_type": "stream",
     "text": [
      "brand has 6255 NaN values\n",
      "category has 0 NaN values\n",
      "created_at has 0 NaN values\n",
      "description has 0 NaN values\n",
      "image_count has 0 NaN values\n",
      "mileage has 6255 NaN values\n",
      "price has 0 NaN values\n",
      "title has 0 NaN values\n",
      "year has 6255 NaN values\n"
     ]
    }
   ],
   "source": [
    "for col in list(df.columns):\n",
    "    print(col,\"has {0} NaN values\".format(df[col].isna().sum()))"
   ]
  },
  {
   "cell_type": "markdown",
   "metadata": {},
   "source": [
    "We have NaN values in the following columns:\n",
    "1. brand\n",
    "2. mileage\n",
    "3. year"
   ]
  },
  {
   "cell_type": "code",
   "execution_count": 150,
   "metadata": {
    "scrolled": false
   },
   "outputs": [
    {
     "name": "stdout",
     "output_type": "stream",
     "text": [
      "                    brand   mileage  year\n",
      "0  پراید صندوق‌دار::Pride  200000.0  1393\n"
     ]
    }
   ],
   "source": [
    "nan_cols = [\"brand\",\"mileage\", \"year\"]\n",
    "print(df[nan_cols].mode())"
   ]
  },
  {
   "cell_type": "code",
   "execution_count": 151,
   "metadata": {},
   "outputs": [
    {
     "name": "stdout",
     "output_type": "stream",
     "text": [
      "Column brand has 6255 NaN values\n",
      "Column mileage has 6255 NaN values\n",
      "Column year has 6255 NaN values\n"
     ]
    }
   ],
   "source": [
    "for col in nan_cols:\n",
    "    print(\"Column {} has {} NaN values\".format(col, df[col].isna().sum()))"
   ]
  },
  {
   "cell_type": "code",
   "execution_count": 152,
   "metadata": {},
   "outputs": [],
   "source": [
    "df.loc[:,\"brand\"].fillna(\"پراید صندوق‌دار::Pride\", inplace = True)\n",
    "df.loc[:,\"mileage\"].fillna(\"200000.0\", inplace = True)\n",
    "df.loc[:,\"year\"].fillna(\"1393\", inplace = True)"
   ]
  },
  {
   "cell_type": "code",
   "execution_count": 153,
   "metadata": {},
   "outputs": [
    {
     "name": "stdout",
     "output_type": "stream",
     "text": [
      "Column brand has 0 NaN values\n",
      "Column mileage has 0 NaN values\n",
      "Column year has 0 NaN values\n"
     ]
    }
   ],
   "source": [
    "for col in nan_cols:\n",
    "    print(\"Column {} has {} NaN values\".format(col, df[col].isna().sum()))\n"
   ]
  },
  {
   "cell_type": "markdown",
   "metadata": {},
   "source": [
    "Now we convert the categorial values:\n",
    "1. brand\n",
    "2. category\n",
    "3. created_at\n",
    "4. description\n",
    "5. title\n",
    "6. year\n",
    "\n",
    "to numerical values so we can use the **mutual_info_regression()** method which only works with numerical values:"
   ]
  },
  {
   "cell_type": "code",
   "execution_count": 176,
   "metadata": {},
   "outputs": [
    {
     "name": "stdout",
     "output_type": "stream",
     "text": [
      "['brand', 'category', 'created_at', 'mileage', 'title', 'year']\n"
     ]
    },
    {
     "ename": "TypeError",
     "evalue": "argument must be a string or number",
     "output_type": "error",
     "traceback": [
      "\u001b[0;31m---------------------------------------------------------------------------\u001b[0m",
      "\u001b[0;31mTypeError\u001b[0m                                 Traceback (most recent call last)",
      "\u001b[0;32m~/anaconda3/lib/python3.7/site-packages/sklearn/preprocessing/_label.py\u001b[0m in \u001b[0;36m_encode\u001b[0;34m(values, uniques, encode, check_unknown)\u001b[0m\n\u001b[1;32m    111\u001b[0m         \u001b[0;32mtry\u001b[0m\u001b[0;34m:\u001b[0m\u001b[0;34m\u001b[0m\u001b[0;34m\u001b[0m\u001b[0m\n\u001b[0;32m--> 112\u001b[0;31m             \u001b[0mres\u001b[0m \u001b[0;34m=\u001b[0m \u001b[0m_encode_python\u001b[0m\u001b[0;34m(\u001b[0m\u001b[0mvalues\u001b[0m\u001b[0;34m,\u001b[0m \u001b[0muniques\u001b[0m\u001b[0;34m,\u001b[0m \u001b[0mencode\u001b[0m\u001b[0;34m)\u001b[0m\u001b[0;34m\u001b[0m\u001b[0;34m\u001b[0m\u001b[0m\n\u001b[0m\u001b[1;32m    113\u001b[0m         \u001b[0;32mexcept\u001b[0m \u001b[0mTypeError\u001b[0m\u001b[0;34m:\u001b[0m\u001b[0;34m\u001b[0m\u001b[0;34m\u001b[0m\u001b[0m\n",
      "\u001b[0;32m~/anaconda3/lib/python3.7/site-packages/sklearn/preprocessing/_label.py\u001b[0m in \u001b[0;36m_encode_python\u001b[0;34m(values, uniques, encode)\u001b[0m\n\u001b[1;32m     59\u001b[0m     \u001b[0;32mif\u001b[0m \u001b[0muniques\u001b[0m \u001b[0;32mis\u001b[0m \u001b[0;32mNone\u001b[0m\u001b[0;34m:\u001b[0m\u001b[0;34m\u001b[0m\u001b[0;34m\u001b[0m\u001b[0m\n\u001b[0;32m---> 60\u001b[0;31m         \u001b[0muniques\u001b[0m \u001b[0;34m=\u001b[0m \u001b[0msorted\u001b[0m\u001b[0;34m(\u001b[0m\u001b[0mset\u001b[0m\u001b[0;34m(\u001b[0m\u001b[0mvalues\u001b[0m\u001b[0;34m)\u001b[0m\u001b[0;34m)\u001b[0m\u001b[0;34m\u001b[0m\u001b[0;34m\u001b[0m\u001b[0m\n\u001b[0m\u001b[1;32m     61\u001b[0m         \u001b[0muniques\u001b[0m \u001b[0;34m=\u001b[0m \u001b[0mnp\u001b[0m\u001b[0;34m.\u001b[0m\u001b[0marray\u001b[0m\u001b[0;34m(\u001b[0m\u001b[0muniques\u001b[0m\u001b[0;34m,\u001b[0m \u001b[0mdtype\u001b[0m\u001b[0;34m=\u001b[0m\u001b[0mvalues\u001b[0m\u001b[0;34m.\u001b[0m\u001b[0mdtype\u001b[0m\u001b[0;34m)\u001b[0m\u001b[0;34m\u001b[0m\u001b[0;34m\u001b[0m\u001b[0m\n",
      "\u001b[0;31mTypeError\u001b[0m: '<' not supported between instances of 'str' and 'float'",
      "\nDuring handling of the above exception, another exception occurred:\n",
      "\u001b[0;31mTypeError\u001b[0m                                 Traceback (most recent call last)",
      "\u001b[0;32m<ipython-input-176-5a8fffa08e2d>\u001b[0m in \u001b[0;36m<module>\u001b[0;34m\u001b[0m\n\u001b[1;32m     11\u001b[0m \u001b[0mencoder\u001b[0m \u001b[0;34m=\u001b[0m \u001b[0mOneHotEncoder\u001b[0m\u001b[0;34m(\u001b[0m\u001b[0;34m)\u001b[0m\u001b[0;34m\u001b[0m\u001b[0;34m\u001b[0m\u001b[0m\n\u001b[1;32m     12\u001b[0m \u001b[0;34m\u001b[0m\u001b[0m\n\u001b[0;32m---> 13\u001b[0;31m \u001b[0monehot\u001b[0m \u001b[0;34m=\u001b[0m \u001b[0mencoder\u001b[0m\u001b[0;34m.\u001b[0m\u001b[0mfit_transform\u001b[0m\u001b[0;34m(\u001b[0m\u001b[0mdf\u001b[0m\u001b[0;34m[\u001b[0m\u001b[0mcategorical_cols\u001b[0m\u001b[0;34m]\u001b[0m\u001b[0;34m)\u001b[0m\u001b[0;34m.\u001b[0m\u001b[0mtoarray\u001b[0m\u001b[0;34m(\u001b[0m\u001b[0;34m)\u001b[0m\u001b[0;34m\u001b[0m\u001b[0;34m\u001b[0m\u001b[0m\n\u001b[0m\u001b[1;32m     14\u001b[0m \u001b[0;31m# encoder_cols = encoder.get_feature_names(categorical_cols)\u001b[0m\u001b[0;34m\u001b[0m\u001b[0;34m\u001b[0m\u001b[0;34m\u001b[0m\u001b[0m\n\u001b[1;32m     15\u001b[0m \u001b[0;31m# categorical_df = pd.DataFrame(onehot, columns = encoder_cols)\u001b[0m\u001b[0;34m\u001b[0m\u001b[0;34m\u001b[0m\u001b[0;34m\u001b[0m\u001b[0m\n",
      "\u001b[0;32m~/anaconda3/lib/python3.7/site-packages/sklearn/preprocessing/_encoders.py\u001b[0m in \u001b[0;36mfit_transform\u001b[0;34m(self, X, y)\u001b[0m\n\u001b[1;32m    370\u001b[0m         \"\"\"\n\u001b[1;32m    371\u001b[0m         \u001b[0mself\u001b[0m\u001b[0;34m.\u001b[0m\u001b[0m_validate_keywords\u001b[0m\u001b[0;34m(\u001b[0m\u001b[0;34m)\u001b[0m\u001b[0;34m\u001b[0m\u001b[0;34m\u001b[0m\u001b[0m\n\u001b[0;32m--> 372\u001b[0;31m         \u001b[0;32mreturn\u001b[0m \u001b[0msuper\u001b[0m\u001b[0;34m(\u001b[0m\u001b[0;34m)\u001b[0m\u001b[0;34m.\u001b[0m\u001b[0mfit_transform\u001b[0m\u001b[0;34m(\u001b[0m\u001b[0mX\u001b[0m\u001b[0;34m,\u001b[0m \u001b[0my\u001b[0m\u001b[0;34m)\u001b[0m\u001b[0;34m\u001b[0m\u001b[0;34m\u001b[0m\u001b[0m\n\u001b[0m\u001b[1;32m    373\u001b[0m \u001b[0;34m\u001b[0m\u001b[0m\n\u001b[1;32m    374\u001b[0m     \u001b[0;32mdef\u001b[0m \u001b[0mtransform\u001b[0m\u001b[0;34m(\u001b[0m\u001b[0mself\u001b[0m\u001b[0;34m,\u001b[0m \u001b[0mX\u001b[0m\u001b[0;34m)\u001b[0m\u001b[0;34m:\u001b[0m\u001b[0;34m\u001b[0m\u001b[0;34m\u001b[0m\u001b[0m\n",
      "\u001b[0;32m~/anaconda3/lib/python3.7/site-packages/sklearn/base.py\u001b[0m in \u001b[0;36mfit_transform\u001b[0;34m(self, X, y, **fit_params)\u001b[0m\n\u001b[1;32m    569\u001b[0m         \u001b[0;32mif\u001b[0m \u001b[0my\u001b[0m \u001b[0;32mis\u001b[0m \u001b[0;32mNone\u001b[0m\u001b[0;34m:\u001b[0m\u001b[0;34m\u001b[0m\u001b[0;34m\u001b[0m\u001b[0m\n\u001b[1;32m    570\u001b[0m             \u001b[0;31m# fit method of arity 1 (unsupervised transformation)\u001b[0m\u001b[0;34m\u001b[0m\u001b[0;34m\u001b[0m\u001b[0;34m\u001b[0m\u001b[0m\n\u001b[0;32m--> 571\u001b[0;31m             \u001b[0;32mreturn\u001b[0m \u001b[0mself\u001b[0m\u001b[0;34m.\u001b[0m\u001b[0mfit\u001b[0m\u001b[0;34m(\u001b[0m\u001b[0mX\u001b[0m\u001b[0;34m,\u001b[0m \u001b[0;34m**\u001b[0m\u001b[0mfit_params\u001b[0m\u001b[0;34m)\u001b[0m\u001b[0;34m.\u001b[0m\u001b[0mtransform\u001b[0m\u001b[0;34m(\u001b[0m\u001b[0mX\u001b[0m\u001b[0;34m)\u001b[0m\u001b[0;34m\u001b[0m\u001b[0;34m\u001b[0m\u001b[0m\n\u001b[0m\u001b[1;32m    572\u001b[0m         \u001b[0;32melse\u001b[0m\u001b[0;34m:\u001b[0m\u001b[0;34m\u001b[0m\u001b[0;34m\u001b[0m\u001b[0m\n\u001b[1;32m    573\u001b[0m             \u001b[0;31m# fit method of arity 2 (supervised transformation)\u001b[0m\u001b[0;34m\u001b[0m\u001b[0;34m\u001b[0m\u001b[0;34m\u001b[0m\u001b[0m\n",
      "\u001b[0;32m~/anaconda3/lib/python3.7/site-packages/sklearn/preprocessing/_encoders.py\u001b[0m in \u001b[0;36mfit\u001b[0;34m(self, X, y)\u001b[0m\n\u001b[1;32m    345\u001b[0m         \"\"\"\n\u001b[1;32m    346\u001b[0m         \u001b[0mself\u001b[0m\u001b[0;34m.\u001b[0m\u001b[0m_validate_keywords\u001b[0m\u001b[0;34m(\u001b[0m\u001b[0;34m)\u001b[0m\u001b[0;34m\u001b[0m\u001b[0;34m\u001b[0m\u001b[0m\n\u001b[0;32m--> 347\u001b[0;31m         \u001b[0mself\u001b[0m\u001b[0;34m.\u001b[0m\u001b[0m_fit\u001b[0m\u001b[0;34m(\u001b[0m\u001b[0mX\u001b[0m\u001b[0;34m,\u001b[0m \u001b[0mhandle_unknown\u001b[0m\u001b[0;34m=\u001b[0m\u001b[0mself\u001b[0m\u001b[0;34m.\u001b[0m\u001b[0mhandle_unknown\u001b[0m\u001b[0;34m)\u001b[0m\u001b[0;34m\u001b[0m\u001b[0;34m\u001b[0m\u001b[0m\n\u001b[0m\u001b[1;32m    348\u001b[0m         \u001b[0mself\u001b[0m\u001b[0;34m.\u001b[0m\u001b[0mdrop_idx_\u001b[0m \u001b[0;34m=\u001b[0m \u001b[0mself\u001b[0m\u001b[0;34m.\u001b[0m\u001b[0m_compute_drop_idx\u001b[0m\u001b[0;34m(\u001b[0m\u001b[0;34m)\u001b[0m\u001b[0;34m\u001b[0m\u001b[0;34m\u001b[0m\u001b[0m\n\u001b[1;32m    349\u001b[0m         \u001b[0;32mreturn\u001b[0m \u001b[0mself\u001b[0m\u001b[0;34m\u001b[0m\u001b[0;34m\u001b[0m\u001b[0m\n",
      "\u001b[0;32m~/anaconda3/lib/python3.7/site-packages/sklearn/preprocessing/_encoders.py\u001b[0m in \u001b[0;36m_fit\u001b[0;34m(self, X, handle_unknown)\u001b[0m\n\u001b[1;32m     84\u001b[0m             \u001b[0mXi\u001b[0m \u001b[0;34m=\u001b[0m \u001b[0mX_list\u001b[0m\u001b[0;34m[\u001b[0m\u001b[0mi\u001b[0m\u001b[0;34m]\u001b[0m\u001b[0;34m\u001b[0m\u001b[0;34m\u001b[0m\u001b[0m\n\u001b[1;32m     85\u001b[0m             \u001b[0;32mif\u001b[0m \u001b[0mself\u001b[0m\u001b[0;34m.\u001b[0m\u001b[0mcategories\u001b[0m \u001b[0;34m==\u001b[0m \u001b[0;34m'auto'\u001b[0m\u001b[0;34m:\u001b[0m\u001b[0;34m\u001b[0m\u001b[0;34m\u001b[0m\u001b[0m\n\u001b[0;32m---> 86\u001b[0;31m                 \u001b[0mcats\u001b[0m \u001b[0;34m=\u001b[0m \u001b[0m_encode\u001b[0m\u001b[0;34m(\u001b[0m\u001b[0mXi\u001b[0m\u001b[0;34m)\u001b[0m\u001b[0;34m\u001b[0m\u001b[0;34m\u001b[0m\u001b[0m\n\u001b[0m\u001b[1;32m     87\u001b[0m             \u001b[0;32melse\u001b[0m\u001b[0;34m:\u001b[0m\u001b[0;34m\u001b[0m\u001b[0;34m\u001b[0m\u001b[0m\n\u001b[1;32m     88\u001b[0m                 \u001b[0mcats\u001b[0m \u001b[0;34m=\u001b[0m \u001b[0mnp\u001b[0m\u001b[0;34m.\u001b[0m\u001b[0marray\u001b[0m\u001b[0;34m(\u001b[0m\u001b[0mself\u001b[0m\u001b[0;34m.\u001b[0m\u001b[0mcategories\u001b[0m\u001b[0;34m[\u001b[0m\u001b[0mi\u001b[0m\u001b[0;34m]\u001b[0m\u001b[0;34m,\u001b[0m \u001b[0mdtype\u001b[0m\u001b[0;34m=\u001b[0m\u001b[0mXi\u001b[0m\u001b[0;34m.\u001b[0m\u001b[0mdtype\u001b[0m\u001b[0;34m)\u001b[0m\u001b[0;34m\u001b[0m\u001b[0;34m\u001b[0m\u001b[0m\n",
      "\u001b[0;32m~/anaconda3/lib/python3.7/site-packages/sklearn/preprocessing/_label.py\u001b[0m in \u001b[0;36m_encode\u001b[0;34m(values, uniques, encode, check_unknown)\u001b[0m\n\u001b[1;32m    112\u001b[0m             \u001b[0mres\u001b[0m \u001b[0;34m=\u001b[0m \u001b[0m_encode_python\u001b[0m\u001b[0;34m(\u001b[0m\u001b[0mvalues\u001b[0m\u001b[0;34m,\u001b[0m \u001b[0muniques\u001b[0m\u001b[0;34m,\u001b[0m \u001b[0mencode\u001b[0m\u001b[0;34m)\u001b[0m\u001b[0;34m\u001b[0m\u001b[0;34m\u001b[0m\u001b[0m\n\u001b[1;32m    113\u001b[0m         \u001b[0;32mexcept\u001b[0m \u001b[0mTypeError\u001b[0m\u001b[0;34m:\u001b[0m\u001b[0;34m\u001b[0m\u001b[0;34m\u001b[0m\u001b[0m\n\u001b[0;32m--> 114\u001b[0;31m             \u001b[0;32mraise\u001b[0m \u001b[0mTypeError\u001b[0m\u001b[0;34m(\u001b[0m\u001b[0;34m\"argument must be a string or number\"\u001b[0m\u001b[0;34m)\u001b[0m\u001b[0;34m\u001b[0m\u001b[0;34m\u001b[0m\u001b[0m\n\u001b[0m\u001b[1;32m    115\u001b[0m         \u001b[0;32mreturn\u001b[0m \u001b[0mres\u001b[0m\u001b[0;34m\u001b[0m\u001b[0;34m\u001b[0m\u001b[0m\n\u001b[1;32m    116\u001b[0m     \u001b[0;32melse\u001b[0m\u001b[0;34m:\u001b[0m\u001b[0;34m\u001b[0m\u001b[0;34m\u001b[0m\u001b[0m\n",
      "\u001b[0;31mTypeError\u001b[0m: argument must be a string or number"
     ]
    }
   ],
   "source": [
    "from sklearn.preprocessing import OneHotEncoder\n",
    "\n",
    "\n",
    "numerical_cols = list(df._get_numeric_data().columns)\n",
    "categorical_cols = [x for x in list(df.columns) if x not in numerical_cols]\n",
    "\n",
    "\n",
    "categorical_cols.remove('description')\n",
    "print(categorical_cols)\n",
    "\n",
    "encoder = OneHotEncoder()\n",
    "\n",
    "onehot = encoder.fit_transform(df[categorical_cols]).toarray()\n",
    "# encoder_cols = encoder.get_feature_names(categorical_cols)\n",
    "# categorical_df = pd.DataFrame(onehot, columns = encoder_cols)\n",
    "\n",
    "# categorical_df"
   ]
  },
  {
   "cell_type": "code",
   "execution_count": 158,
   "metadata": {},
   "outputs": [],
   "source": [
    "# X = df\n",
    "# y = df.price"
   ]
  },
  {
   "cell_type": "code",
   "execution_count": 159,
   "metadata": {},
   "outputs": [],
   "source": [
    "# X"
   ]
  },
  {
   "cell_type": "code",
   "execution_count": 160,
   "metadata": {},
   "outputs": [],
   "source": [
    "# y"
   ]
  },
  {
   "cell_type": "code",
   "execution_count": 161,
   "metadata": {},
   "outputs": [],
   "source": [
    "# X_train, X_test, y_train, y_test = train_test_split(X, y, test_size = 0.2, random_state = 0)\n",
    "# mi = mutual_info_regression(X_train, y_train)\n",
    "# #mi = pd.Series(mi)\n",
    "# #mi.index = X_train.columns\n",
    "# #mi.sort_values(ascending=False, inplace = True)\n"
   ]
  }
 ],
 "metadata": {
  "kernelspec": {
   "display_name": "Python 3.8.3 64-bit ('base')",
   "language": "python",
   "name": "python38364bitbase7b9a83250b18425396d3e16f0fb4cd8f"
  },
  "language_info": {
   "codemirror_mode": {
    "name": "ipython",
    "version": 3
   },
   "file_extension": ".py",
   "mimetype": "text/x-python",
   "name": "python",
   "nbconvert_exporter": "python",
   "pygments_lexer": "ipython3",
   "version": "3.7.6"
  }
 },
 "nbformat": 4,
 "nbformat_minor": 4
}
