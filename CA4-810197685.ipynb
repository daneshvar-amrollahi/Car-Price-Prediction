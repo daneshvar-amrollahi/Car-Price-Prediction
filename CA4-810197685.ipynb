{
 "cells": [
  {
   "cell_type": "markdown",
   "metadata": {},
   "source": [
    "# Computer Assignment #4 (Machine Learning)\n",
    "\n",
    "### Artificial Intelligence Course - Spring 2021\n",
    "\n",
    "### Daneshvar Amrollahi (810197685)\n",
    "\n",
    "#### The questions asked in the description are answered in the format Qi) where i is the question number."
   ]
  },
  {
   "cell_type": "markdown",
   "metadata": {},
   "source": [
    "# Pre-Processing"
   ]
  },
  {
   "cell_type": "code",
   "execution_count": 45,
   "metadata": {},
   "outputs": [],
   "source": [
    "import pandas as pd\n",
    "pd.options.mode.chained_assignment = None  #ignoring warning"
   ]
  },
  {
   "cell_type": "code",
   "execution_count": 46,
   "metadata": {},
   "outputs": [],
   "source": [
    "df = pd.read_csv(\"data/vehicles.csv\")"
   ]
  },
  {
   "cell_type": "code",
   "execution_count": 47,
   "metadata": {
    "scrolled": false
   },
   "outputs": [
    {
     "data": {
      "text/html": [
       "<div>\n",
       "<style scoped>\n",
       "    .dataframe tbody tr th:only-of-type {\n",
       "        vertical-align: middle;\n",
       "    }\n",
       "\n",
       "    .dataframe tbody tr th {\n",
       "        vertical-align: top;\n",
       "    }\n",
       "\n",
       "    .dataframe thead th {\n",
       "        text-align: right;\n",
       "    }\n",
       "</style>\n",
       "<table border=\"1\" class=\"dataframe\">\n",
       "  <thead>\n",
       "    <tr style=\"text-align: right;\">\n",
       "      <th></th>\n",
       "      <th>brand</th>\n",
       "      <th>category</th>\n",
       "      <th>created_at</th>\n",
       "      <th>description</th>\n",
       "      <th>image_count</th>\n",
       "      <th>mileage</th>\n",
       "      <th>price</th>\n",
       "      <th>title</th>\n",
       "      <th>year</th>\n",
       "    </tr>\n",
       "  </thead>\n",
       "  <tbody>\n",
       "    <tr>\n",
       "      <th>0</th>\n",
       "      <td>NaN</td>\n",
       "      <td>heavy</td>\n",
       "      <td>Tuesday 07PM</td>\n",
       "      <td>سریال 43j$NUMبدون شکستگی سه حلقه لاستیک نو یک ...</td>\n",
       "      <td>4</td>\n",
       "      <td>NaN</td>\n",
       "      <td>-1</td>\n",
       "      <td>لودر کاتر پیلار 950</td>\n",
       "      <td>NaN</td>\n",
       "    </tr>\n",
       "    <tr>\n",
       "      <th>1</th>\n",
       "      <td>سایر</td>\n",
       "      <td>light</td>\n",
       "      <td>Wednesday 04AM</td>\n",
       "      <td>دوگانه ال پی جی بیمه با تخفیف دارد \\nتودوزی نو...</td>\n",
       "      <td>3</td>\n",
       "      <td>180000.0</td>\n",
       "      <td>-1</td>\n",
       "      <td>پاترول شش سیلندر چهار درب</td>\n",
       "      <td>1366</td>\n",
       "    </tr>\n",
       "    <tr>\n",
       "      <th>2</th>\n",
       "      <td>پژو ۴۰۵::Peugeot 405</td>\n",
       "      <td>light</td>\n",
       "      <td>Wednesday 11AM</td>\n",
       "      <td>پژو 2000فنی تازه تعمیر بدنه بدون خطو خش تخیف ب...</td>\n",
       "      <td>0</td>\n",
       "      <td>290000.0</td>\n",
       "      <td>8500000</td>\n",
       "      <td>پژو مدل 81 مشکی</td>\n",
       "      <td>1381</td>\n",
       "    </tr>\n",
       "    <tr>\n",
       "      <th>3</th>\n",
       "      <td>نیسان::Nissan</td>\n",
       "      <td>light</td>\n",
       "      <td>Wednesday 01PM</td>\n",
       "      <td>سلام.\\nماشین کاملا سالم همه چی فابریک متور زد ...</td>\n",
       "      <td>3</td>\n",
       "      <td>175000.0</td>\n",
       "      <td>19500000</td>\n",
       "      <td>پاترول 2در</td>\n",
       "      <td>1372</td>\n",
       "    </tr>\n",
       "    <tr>\n",
       "      <th>4</th>\n",
       "      <td>سمند::Samand</td>\n",
       "      <td>light</td>\n",
       "      <td>Thursday 07AM</td>\n",
       "      <td>سمند ال ایکس بدون رنگ تمامی سرویس ها انجام شده...</td>\n",
       "      <td>4</td>\n",
       "      <td>80000.0</td>\n",
       "      <td>23900000</td>\n",
       "      <td>سمند دوگانه کارخانه</td>\n",
       "      <td>1391</td>\n",
       "    </tr>\n",
       "    <tr>\n",
       "      <th>...</th>\n",
       "      <td>...</td>\n",
       "      <td>...</td>\n",
       "      <td>...</td>\n",
       "      <td>...</td>\n",
       "      <td>...</td>\n",
       "      <td>...</td>\n",
       "      <td>...</td>\n",
       "      <td>...</td>\n",
       "      <td>...</td>\n",
       "    </tr>\n",
       "    <tr>\n",
       "      <th>130438</th>\n",
       "      <td>NaN</td>\n",
       "      <td>heavy</td>\n",
       "      <td>Wednesday 03PM</td>\n",
       "      <td>بادسان فوق بیرنگ سفید رنگ بیمه تابرج 3.96 تخفی...</td>\n",
       "      <td>2</td>\n",
       "      <td>NaN</td>\n",
       "      <td>48000000</td>\n",
       "      <td>بادسان 8b14 مدل83</td>\n",
       "      <td>NaN</td>\n",
       "    </tr>\n",
       "    <tr>\n",
       "      <th>130439</th>\n",
       "      <td>NaN</td>\n",
       "      <td>heavy</td>\n",
       "      <td>Wednesday 06PM</td>\n",
       "      <td>باسلام .تراکتورازصفری دست خودم بوده.سالم.ودارا...</td>\n",
       "      <td>4</td>\n",
       "      <td>NaN</td>\n",
       "      <td>-1</td>\n",
       "      <td>تراکتورگلدونی ۲۳۸ایتالیا</td>\n",
       "      <td>NaN</td>\n",
       "    </tr>\n",
       "    <tr>\n",
       "      <th>130440</th>\n",
       "      <td>سمند::Samand</td>\n",
       "      <td>light</td>\n",
       "      <td>Wednesday 06PM</td>\n",
       "      <td>ماشینم تصادفیه با خریدار توافق میکنم سر قیمتش</td>\n",
       "      <td>3</td>\n",
       "      <td>20000.0</td>\n",
       "      <td>-1</td>\n",
       "      <td>خودرو سمند تصادفی مدل92</td>\n",
       "      <td>1392</td>\n",
       "    </tr>\n",
       "    <tr>\n",
       "      <th>130441</th>\n",
       "      <td>پراید صندوق‌دار::Pride</td>\n",
       "      <td>light</td>\n",
       "      <td>Thursday 03PM</td>\n",
       "      <td>سند۲ برگ،بیمه تا برج$NUMتخفیفات بیمه 15 سال،مع...</td>\n",
       "      <td>4</td>\n",
       "      <td>123000.0</td>\n",
       "      <td>6900000</td>\n",
       "      <td>پراید 79 بسیار سالم</td>\n",
       "      <td>1379</td>\n",
       "    </tr>\n",
       "    <tr>\n",
       "      <th>130442</th>\n",
       "      <td>پراید صندوق‌دار::Pride</td>\n",
       "      <td>light</td>\n",
       "      <td>Friday 04PM</td>\n",
       "      <td>پراید دوگانه کارخانه میباشد و کم کارکرد.روکش ....</td>\n",
       "      <td>3</td>\n",
       "      <td>43000.0</td>\n",
       "      <td>17400000</td>\n",
       "      <td>پراید دوگانه کارخانه مدل93</td>\n",
       "      <td>1393</td>\n",
       "    </tr>\n",
       "  </tbody>\n",
       "</table>\n",
       "<p>130443 rows × 9 columns</p>\n",
       "</div>"
      ],
      "text/plain": [
       "                         brand category      created_at  \\\n",
       "0                          NaN    heavy    Tuesday 07PM   \n",
       "1                         سایر    light  Wednesday 04AM   \n",
       "2         پژو ۴۰۵::Peugeot 405    light  Wednesday 11AM   \n",
       "3                نیسان::Nissan    light  Wednesday 01PM   \n",
       "4                 سمند::Samand    light   Thursday 07AM   \n",
       "...                        ...      ...             ...   \n",
       "130438                     NaN    heavy  Wednesday 03PM   \n",
       "130439                     NaN    heavy  Wednesday 06PM   \n",
       "130440            سمند::Samand    light  Wednesday 06PM   \n",
       "130441  پراید صندوق‌دار::Pride    light   Thursday 03PM   \n",
       "130442  پراید صندوق‌دار::Pride    light     Friday 04PM   \n",
       "\n",
       "                                              description  image_count  \\\n",
       "0       سریال 43j$NUMبدون شکستگی سه حلقه لاستیک نو یک ...            4   \n",
       "1       دوگانه ال پی جی بیمه با تخفیف دارد \\nتودوزی نو...            3   \n",
       "2       پژو 2000فنی تازه تعمیر بدنه بدون خطو خش تخیف ب...            0   \n",
       "3       سلام.\\nماشین کاملا سالم همه چی فابریک متور زد ...            3   \n",
       "4       سمند ال ایکس بدون رنگ تمامی سرویس ها انجام شده...            4   \n",
       "...                                                   ...          ...   \n",
       "130438  بادسان فوق بیرنگ سفید رنگ بیمه تابرج 3.96 تخفی...            2   \n",
       "130439  باسلام .تراکتورازصفری دست خودم بوده.سالم.ودارا...            4   \n",
       "130440      ماشینم تصادفیه با خریدار توافق میکنم سر قیمتش            3   \n",
       "130441  سند۲ برگ،بیمه تا برج$NUMتخفیفات بیمه 15 سال،مع...            4   \n",
       "130442  پراید دوگانه کارخانه میباشد و کم کارکرد.روکش ....            3   \n",
       "\n",
       "         mileage     price                       title  year  \n",
       "0            NaN        -1         لودر کاتر پیلار 950   NaN  \n",
       "1       180000.0        -1   پاترول شش سیلندر چهار درب  1366  \n",
       "2       290000.0   8500000             پژو مدل 81 مشکی  1381  \n",
       "3       175000.0  19500000                  پاترول 2در  1372  \n",
       "4        80000.0  23900000         سمند دوگانه کارخانه  1391  \n",
       "...          ...       ...                         ...   ...  \n",
       "130438       NaN  48000000           بادسان 8b14 مدل83   NaN  \n",
       "130439       NaN        -1    تراکتورگلدونی ۲۳۸ایتالیا   NaN  \n",
       "130440   20000.0        -1     خودرو سمند تصادفی مدل92  1392  \n",
       "130441  123000.0   6900000         پراید 79 بسیار سالم  1379  \n",
       "130442   43000.0  17400000  پراید دوگانه کارخانه مدل93  1393  \n",
       "\n",
       "[130443 rows x 9 columns]"
      ]
     },
     "execution_count": 47,
     "metadata": {},
     "output_type": "execute_result"
    }
   ],
   "source": [
    "df"
   ]
  },
  {
   "cell_type": "code",
   "execution_count": 48,
   "metadata": {
    "scrolled": true
   },
   "outputs": [
    {
     "data": {
      "text/html": [
       "<div>\n",
       "<style scoped>\n",
       "    .dataframe tbody tr th:only-of-type {\n",
       "        vertical-align: middle;\n",
       "    }\n",
       "\n",
       "    .dataframe tbody tr th {\n",
       "        vertical-align: top;\n",
       "    }\n",
       "\n",
       "    .dataframe thead th {\n",
       "        text-align: right;\n",
       "    }\n",
       "</style>\n",
       "<table border=\"1\" class=\"dataframe\">\n",
       "  <thead>\n",
       "    <tr style=\"text-align: right;\">\n",
       "      <th></th>\n",
       "      <th>image_count</th>\n",
       "      <th>mileage</th>\n",
       "      <th>price</th>\n",
       "    </tr>\n",
       "  </thead>\n",
       "  <tbody>\n",
       "    <tr>\n",
       "      <th>count</th>\n",
       "      <td>130443.000000</td>\n",
       "      <td>120451.000000</td>\n",
       "      <td>1.304430e+05</td>\n",
       "    </tr>\n",
       "    <tr>\n",
       "      <th>mean</th>\n",
       "      <td>1.865527</td>\n",
       "      <td>100862.291944</td>\n",
       "      <td>2.224718e+07</td>\n",
       "    </tr>\n",
       "    <tr>\n",
       "      <th>std</th>\n",
       "      <td>1.471163</td>\n",
       "      <td>98368.470916</td>\n",
       "      <td>3.079805e+07</td>\n",
       "    </tr>\n",
       "    <tr>\n",
       "      <th>min</th>\n",
       "      <td>0.000000</td>\n",
       "      <td>0.000000</td>\n",
       "      <td>-1.000000e+00</td>\n",
       "    </tr>\n",
       "    <tr>\n",
       "      <th>25%</th>\n",
       "      <td>0.000000</td>\n",
       "      <td>19000.000000</td>\n",
       "      <td>7.400000e+06</td>\n",
       "    </tr>\n",
       "    <tr>\n",
       "      <th>50%</th>\n",
       "      <td>2.000000</td>\n",
       "      <td>75000.000000</td>\n",
       "      <td>1.450000e+07</td>\n",
       "    </tr>\n",
       "    <tr>\n",
       "      <th>75%</th>\n",
       "      <td>3.000000</td>\n",
       "      <td>160000.000000</td>\n",
       "      <td>2.500000e+07</td>\n",
       "    </tr>\n",
       "    <tr>\n",
       "      <th>max</th>\n",
       "      <td>14.000000</td>\n",
       "      <td>500000.000000</td>\n",
       "      <td>4.000000e+08</td>\n",
       "    </tr>\n",
       "  </tbody>\n",
       "</table>\n",
       "</div>"
      ],
      "text/plain": [
       "         image_count        mileage         price\n",
       "count  130443.000000  120451.000000  1.304430e+05\n",
       "mean        1.865527  100862.291944  2.224718e+07\n",
       "std         1.471163   98368.470916  3.079805e+07\n",
       "min         0.000000       0.000000 -1.000000e+00\n",
       "25%         0.000000   19000.000000  7.400000e+06\n",
       "50%         2.000000   75000.000000  1.450000e+07\n",
       "75%         3.000000  160000.000000  2.500000e+07\n",
       "max        14.000000  500000.000000  4.000000e+08"
      ]
     },
     "execution_count": 48,
     "metadata": {},
     "output_type": "execute_result"
    }
   ],
   "source": [
    "df.describe()"
   ]
  },
  {
   "cell_type": "markdown",
   "metadata": {},
   "source": [
    "First, we drop the rows with **price = -1**:"
   ]
  },
  {
   "cell_type": "code",
   "execution_count": 49,
   "metadata": {},
   "outputs": [],
   "source": [
    "df = df[df.price != -1]"
   ]
  },
  {
   "cell_type": "code",
   "execution_count": 50,
   "metadata": {
    "scrolled": true
   },
   "outputs": [
    {
     "data": {
      "text/html": [
       "<div>\n",
       "<style scoped>\n",
       "    .dataframe tbody tr th:only-of-type {\n",
       "        vertical-align: middle;\n",
       "    }\n",
       "\n",
       "    .dataframe tbody tr th {\n",
       "        vertical-align: top;\n",
       "    }\n",
       "\n",
       "    .dataframe thead th {\n",
       "        text-align: right;\n",
       "    }\n",
       "</style>\n",
       "<table border=\"1\" class=\"dataframe\">\n",
       "  <thead>\n",
       "    <tr style=\"text-align: right;\">\n",
       "      <th></th>\n",
       "      <th>brand</th>\n",
       "      <th>category</th>\n",
       "      <th>created_at</th>\n",
       "      <th>description</th>\n",
       "      <th>image_count</th>\n",
       "      <th>mileage</th>\n",
       "      <th>price</th>\n",
       "      <th>title</th>\n",
       "      <th>year</th>\n",
       "    </tr>\n",
       "  </thead>\n",
       "  <tbody>\n",
       "    <tr>\n",
       "      <th>2</th>\n",
       "      <td>پژو ۴۰۵::Peugeot 405</td>\n",
       "      <td>light</td>\n",
       "      <td>Wednesday 11AM</td>\n",
       "      <td>پژو 2000فنی تازه تعمیر بدنه بدون خطو خش تخیف ب...</td>\n",
       "      <td>0</td>\n",
       "      <td>290000.0</td>\n",
       "      <td>8500000</td>\n",
       "      <td>پژو مدل 81 مشکی</td>\n",
       "      <td>1381</td>\n",
       "    </tr>\n",
       "    <tr>\n",
       "      <th>3</th>\n",
       "      <td>نیسان::Nissan</td>\n",
       "      <td>light</td>\n",
       "      <td>Wednesday 01PM</td>\n",
       "      <td>سلام.\\nماشین کاملا سالم همه چی فابریک متور زد ...</td>\n",
       "      <td>3</td>\n",
       "      <td>175000.0</td>\n",
       "      <td>19500000</td>\n",
       "      <td>پاترول 2در</td>\n",
       "      <td>1372</td>\n",
       "    </tr>\n",
       "    <tr>\n",
       "      <th>4</th>\n",
       "      <td>سمند::Samand</td>\n",
       "      <td>light</td>\n",
       "      <td>Thursday 07AM</td>\n",
       "      <td>سمند ال ایکس بدون رنگ تمامی سرویس ها انجام شده...</td>\n",
       "      <td>4</td>\n",
       "      <td>80000.0</td>\n",
       "      <td>23900000</td>\n",
       "      <td>سمند دوگانه کارخانه</td>\n",
       "      <td>1391</td>\n",
       "    </tr>\n",
       "    <tr>\n",
       "      <th>5</th>\n",
       "      <td>پژو ۴۰۵::Peugeot 405</td>\n",
       "      <td>light</td>\n",
       "      <td>Thursday 08AM</td>\n",
       "      <td>بیمه یکسال ده سال تخفیف دور رنگ شاسی پلمپ سالم</td>\n",
       "      <td>3</td>\n",
       "      <td>125000.0</td>\n",
       "      <td>8500000</td>\n",
       "      <td>پژو405 مدل84</td>\n",
       "      <td>1384</td>\n",
       "    </tr>\n",
       "    <tr>\n",
       "      <th>6</th>\n",
       "      <td>ام‌وی‌ام::MVM</td>\n",
       "      <td>light</td>\n",
       "      <td>Thursday 08AM</td>\n",
       "      <td>ام وی ام چهار سیلندر مدل 93 فنی سالم بدون رنگ ...</td>\n",
       "      <td>2</td>\n",
       "      <td>11000.0</td>\n",
       "      <td>18500000</td>\n",
       "      <td>ام وی ام 110 چهار سیلندر</td>\n",
       "      <td>1393</td>\n",
       "    </tr>\n",
       "    <tr>\n",
       "      <th>...</th>\n",
       "      <td>...</td>\n",
       "      <td>...</td>\n",
       "      <td>...</td>\n",
       "      <td>...</td>\n",
       "      <td>...</td>\n",
       "      <td>...</td>\n",
       "      <td>...</td>\n",
       "      <td>...</td>\n",
       "      <td>...</td>\n",
       "    </tr>\n",
       "    <tr>\n",
       "      <th>130435</th>\n",
       "      <td>تندر ۹۰::Tondar 90</td>\n",
       "      <td>light</td>\n",
       "      <td>Tuesday 02PM</td>\n",
       "      <td>فوق‌العاده سالم بدون رنگ دزدگیر ماجیکار شیشه ه...</td>\n",
       "      <td>2</td>\n",
       "      <td>173000.0</td>\n",
       "      <td>30000000</td>\n",
       "      <td>ال۹۰ E2</td>\n",
       "      <td>1390</td>\n",
       "    </tr>\n",
       "    <tr>\n",
       "      <th>130436</th>\n",
       "      <td>پراید صندوق‌دار::Pride</td>\n",
       "      <td>light</td>\n",
       "      <td>Tuesday 05PM</td>\n",
       "      <td>مدل 84 تمیز. بدون رنگ. سیستم صوتی. رینگ و لاست...</td>\n",
       "      <td>3</td>\n",
       "      <td>140000.0</td>\n",
       "      <td>11000000</td>\n",
       "      <td>پراید مدل 84 بدون رنگ</td>\n",
       "      <td>1384</td>\n",
       "    </tr>\n",
       "    <tr>\n",
       "      <th>130438</th>\n",
       "      <td>NaN</td>\n",
       "      <td>heavy</td>\n",
       "      <td>Wednesday 03PM</td>\n",
       "      <td>بادسان فوق بیرنگ سفید رنگ بیمه تابرج 3.96 تخفی...</td>\n",
       "      <td>2</td>\n",
       "      <td>NaN</td>\n",
       "      <td>48000000</td>\n",
       "      <td>بادسان 8b14 مدل83</td>\n",
       "      <td>NaN</td>\n",
       "    </tr>\n",
       "    <tr>\n",
       "      <th>130441</th>\n",
       "      <td>پراید صندوق‌دار::Pride</td>\n",
       "      <td>light</td>\n",
       "      <td>Thursday 03PM</td>\n",
       "      <td>سند۲ برگ،بیمه تا برج$NUMتخفیفات بیمه 15 سال،مع...</td>\n",
       "      <td>4</td>\n",
       "      <td>123000.0</td>\n",
       "      <td>6900000</td>\n",
       "      <td>پراید 79 بسیار سالم</td>\n",
       "      <td>1379</td>\n",
       "    </tr>\n",
       "    <tr>\n",
       "      <th>130442</th>\n",
       "      <td>پراید صندوق‌دار::Pride</td>\n",
       "      <td>light</td>\n",
       "      <td>Friday 04PM</td>\n",
       "      <td>پراید دوگانه کارخانه میباشد و کم کارکرد.روکش ....</td>\n",
       "      <td>3</td>\n",
       "      <td>43000.0</td>\n",
       "      <td>17400000</td>\n",
       "      <td>پراید دوگانه کارخانه مدل93</td>\n",
       "      <td>1393</td>\n",
       "    </tr>\n",
       "  </tbody>\n",
       "</table>\n",
       "<p>110054 rows × 9 columns</p>\n",
       "</div>"
      ],
      "text/plain": [
       "                         brand category      created_at  \\\n",
       "2         پژو ۴۰۵::Peugeot 405    light  Wednesday 11AM   \n",
       "3                نیسان::Nissan    light  Wednesday 01PM   \n",
       "4                 سمند::Samand    light   Thursday 07AM   \n",
       "5         پژو ۴۰۵::Peugeot 405    light   Thursday 08AM   \n",
       "6                ام‌وی‌ام::MVM    light   Thursday 08AM   \n",
       "...                        ...      ...             ...   \n",
       "130435      تندر ۹۰::Tondar 90    light    Tuesday 02PM   \n",
       "130436  پراید صندوق‌دار::Pride    light    Tuesday 05PM   \n",
       "130438                     NaN    heavy  Wednesday 03PM   \n",
       "130441  پراید صندوق‌دار::Pride    light   Thursday 03PM   \n",
       "130442  پراید صندوق‌دار::Pride    light     Friday 04PM   \n",
       "\n",
       "                                              description  image_count  \\\n",
       "2       پژو 2000فنی تازه تعمیر بدنه بدون خطو خش تخیف ب...            0   \n",
       "3       سلام.\\nماشین کاملا سالم همه چی فابریک متور زد ...            3   \n",
       "4       سمند ال ایکس بدون رنگ تمامی سرویس ها انجام شده...            4   \n",
       "5          بیمه یکسال ده سال تخفیف دور رنگ شاسی پلمپ سالم            3   \n",
       "6       ام وی ام چهار سیلندر مدل 93 فنی سالم بدون رنگ ...            2   \n",
       "...                                                   ...          ...   \n",
       "130435  فوق‌العاده سالم بدون رنگ دزدگیر ماجیکار شیشه ه...            2   \n",
       "130436  مدل 84 تمیز. بدون رنگ. سیستم صوتی. رینگ و لاست...            3   \n",
       "130438  بادسان فوق بیرنگ سفید رنگ بیمه تابرج 3.96 تخفی...            2   \n",
       "130441  سند۲ برگ،بیمه تا برج$NUMتخفیفات بیمه 15 سال،مع...            4   \n",
       "130442  پراید دوگانه کارخانه میباشد و کم کارکرد.روکش ....            3   \n",
       "\n",
       "         mileage     price                       title  year  \n",
       "2       290000.0   8500000             پژو مدل 81 مشکی  1381  \n",
       "3       175000.0  19500000                  پاترول 2در  1372  \n",
       "4        80000.0  23900000         سمند دوگانه کارخانه  1391  \n",
       "5       125000.0   8500000                پژو405 مدل84  1384  \n",
       "6        11000.0  18500000    ام وی ام 110 چهار سیلندر  1393  \n",
       "...          ...       ...                         ...   ...  \n",
       "130435  173000.0  30000000                     ال۹۰ E2  1390  \n",
       "130436  140000.0  11000000       پراید مدل 84 بدون رنگ  1384  \n",
       "130438       NaN  48000000           بادسان 8b14 مدل83   NaN  \n",
       "130441  123000.0   6900000         پراید 79 بسیار سالم  1379  \n",
       "130442   43000.0  17400000  پراید دوگانه کارخانه مدل93  1393  \n",
       "\n",
       "[110054 rows x 9 columns]"
      ]
     },
     "execution_count": 50,
     "metadata": {},
     "output_type": "execute_result"
    }
   ],
   "source": [
    "df"
   ]
  },
  {
   "cell_type": "code",
   "execution_count": 51,
   "metadata": {
    "scrolled": false
   },
   "outputs": [
    {
     "data": {
      "text/plain": [
       "brand           object\n",
       "category        object\n",
       "created_at      object\n",
       "description     object\n",
       "image_count      int64\n",
       "mileage        float64\n",
       "price            int64\n",
       "title           object\n",
       "year            object\n",
       "dtype: object"
      ]
     },
     "execution_count": 51,
     "metadata": {},
     "output_type": "execute_result"
    }
   ],
   "source": [
    "df.dtypes"
   ]
  },
  {
   "cell_type": "markdown",
   "metadata": {},
   "source": [
    "### Replacing NaN values:"
   ]
  },
  {
   "cell_type": "code",
   "execution_count": 52,
   "metadata": {
    "scrolled": true
   },
   "outputs": [
    {
     "name": "stdout",
     "output_type": "stream",
     "text": [
      "brand has 6255 NaN values\n",
      "category has 0 NaN values\n",
      "created_at has 0 NaN values\n",
      "description has 0 NaN values\n",
      "image_count has 0 NaN values\n",
      "mileage has 6255 NaN values\n",
      "price has 0 NaN values\n",
      "title has 0 NaN values\n",
      "year has 6255 NaN values\n"
     ]
    }
   ],
   "source": [
    "for col in list(df.columns):\n",
    "    print(col,\"has {0} NaN values\".format(df[col].isna().sum()))"
   ]
  },
  {
   "cell_type": "markdown",
   "metadata": {},
   "source": [
    "We have NaN values in the following columns:\n",
    "1. brand\n",
    "2. mileage\n",
    "3. year\n",
    "\n",
    "#### Q4)\n",
    "\n",
    "We decided to replace **NaN** values in each column with the most frequent data in that column since we don't like to drop one whole row because of a single value missing. "
   ]
  },
  {
   "cell_type": "code",
   "execution_count": 53,
   "metadata": {
    "scrolled": false
   },
   "outputs": [
    {
     "name": "stdout",
     "output_type": "stream",
     "text": [
      "                    brand   mileage  year\n",
      "0  پراید صندوق‌دار::Pride  200000.0  1393\n"
     ]
    }
   ],
   "source": [
    "nan_cols = [\"brand\",\"mileage\", \"year\"]\n",
    "print(df[nan_cols].mode())"
   ]
  },
  {
   "cell_type": "code",
   "execution_count": 10,
   "metadata": {},
   "outputs": [
    {
     "name": "stdout",
     "output_type": "stream",
     "text": [
      "Column brand has 6255 NaN values\n",
      "Column mileage has 6255 NaN values\n",
      "Column year has 6255 NaN values\n"
     ]
    }
   ],
   "source": [
    "for col in nan_cols:\n",
    "    print(\"Column {} has {} NaN values\".format(col, df[col].isna().sum()))"
   ]
  },
  {
   "cell_type": "code",
   "execution_count": 11,
   "metadata": {},
   "outputs": [],
   "source": [
    "df.loc[:,\"brand\"].fillna(\"پراید صندوق‌دار::Pride\", inplace = True)\n",
    "df.loc[:,\"mileage\"].fillna(\"200000.0\", inplace = True)\n",
    "df.loc[:,\"year\"].fillna(\"1393\", inplace = True)"
   ]
  },
  {
   "cell_type": "code",
   "execution_count": 12,
   "metadata": {},
   "outputs": [
    {
     "name": "stdout",
     "output_type": "stream",
     "text": [
      "Column brand has 0 NaN values\n",
      "Column mileage has 0 NaN values\n",
      "Column year has 0 NaN values\n"
     ]
    }
   ],
   "source": [
    "for col in nan_cols:\n",
    "    print(\"Column {} has {} NaN values\".format(col, df[col].isna().sum()))\n"
   ]
  },
  {
   "cell_type": "markdown",
   "metadata": {},
   "source": [
    "Now we convert the categorial values:\n",
    "1. brand\n",
    "2. category\n",
    "3. created_at\n",
    "4. description\n",
    "5. title\n",
    "6. year\n",
    "\n",
    "to numerical values so we can use the **mutual_info_regression()** method which only works with numerical values:"
   ]
  },
  {
   "cell_type": "code",
   "execution_count": 13,
   "metadata": {},
   "outputs": [
    {
     "data": {
      "text/plain": [
       "1393     17153\n",
       "1390      8793\n",
       "1394      8571\n",
       "1389      7062\n",
       "1391      6449\n",
       "1388      6436\n",
       "1383      5753\n",
       "1386      5625\n",
       "1387      5604\n",
       "1392      5534\n",
       "1385      5459\n",
       "1384      5392\n",
       "1395      5279\n",
       "1382      4528\n",
       "1381      3354\n",
       "1380      2079\n",
       "1379      1412\n",
       "1378       946\n",
       "1377       884\n",
       "<1366      832\n",
       "1376       657\n",
       "1375       508\n",
       "1373       409\n",
       "1372       366\n",
       "1374       345\n",
       "1371       248\n",
       "1370       118\n",
       "1366       101\n",
       "1368        57\n",
       "1367        52\n",
       "1369        48\n",
       "Name: year, dtype: int64"
      ]
     },
     "execution_count": 13,
     "metadata": {},
     "output_type": "execute_result"
    }
   ],
   "source": [
    "df['year'].value_counts()"
   ]
  },
  {
   "cell_type": "code",
   "execution_count": 14,
   "metadata": {},
   "outputs": [],
   "source": [
    "df[\"year\"].replace({\"<1366\": \"1366\"}, inplace=True)\n",
    "\n",
    "df['year'] = df['year'].astype(int)"
   ]
  },
  {
   "cell_type": "markdown",
   "metadata": {},
   "source": [
    "#### Q2)\n",
    "\n",
    "There are many ways to convert categorical data into numerical datas. Here we use 2 of them:\n",
    "\n",
    "1. **Label Encoders**: Assigining numbers to each categorical value. \n",
    "2. **One Hot Encoding**: Adding new columns for each categorical value and assigining a binary vector for each row.\n",
    "\n",
    "**Label Encoders** aren't a good option when we have no particular ordering in our categories. In these cases, we can use **One Hot Encoding** which takes a lot of memory since it is adding a new column for each new category. "
   ]
  },
  {
   "cell_type": "code",
   "execution_count": 15,
   "metadata": {
    "scrolled": true
   },
   "outputs": [
    {
     "name": "stdout",
     "output_type": "stream",
     "text": [
      "['brand', 'category', 'created_at', 'mileage']\n"
     ]
    }
   ],
   "source": [
    "from sklearn.preprocessing import OrdinalEncoder\n",
    "pd.options.mode.chained_assignment = None  # default='warn'\n",
    "\n",
    "numerical_cols = list(df._get_numeric_data().columns)\n",
    "categorical_cols = [x for x in list(df.columns) if x not in numerical_cols]\n",
    "\n",
    "\n",
    "categorical_cols.remove('description')\n",
    "categorical_cols.remove('title')\n",
    "print(categorical_cols)\n",
    "\n",
    "ord_enc = OrdinalEncoder()\n",
    "\n",
    "df[categorical_cols] = ord_enc.fit_transform(df[categorical_cols].astype(str))"
   ]
  },
  {
   "cell_type": "markdown",
   "metadata": {},
   "source": [
    "### Converting all floats to int:"
   ]
  },
  {
   "cell_type": "code",
   "execution_count": 16,
   "metadata": {},
   "outputs": [],
   "source": [
    "df['brand'] = df['brand'].astype(int)\n",
    "df['category'] = df['category'].astype(int)\n",
    "df['created_at'] = df['created_at'].astype(int)\n",
    "df['category'] = df['category'].astype(int)\n",
    "df['mileage']= df['mileage'].astype(int)"
   ]
  },
  {
   "cell_type": "code",
   "execution_count": 17,
   "metadata": {},
   "outputs": [
    {
     "data": {
      "text/html": [
       "<div>\n",
       "<style scoped>\n",
       "    .dataframe tbody tr th:only-of-type {\n",
       "        vertical-align: middle;\n",
       "    }\n",
       "\n",
       "    .dataframe tbody tr th {\n",
       "        vertical-align: top;\n",
       "    }\n",
       "\n",
       "    .dataframe thead th {\n",
       "        text-align: right;\n",
       "    }\n",
       "</style>\n",
       "<table border=\"1\" class=\"dataframe\">\n",
       "  <thead>\n",
       "    <tr style=\"text-align: right;\">\n",
       "      <th></th>\n",
       "      <th>brand</th>\n",
       "      <th>category</th>\n",
       "      <th>created_at</th>\n",
       "      <th>description</th>\n",
       "      <th>image_count</th>\n",
       "      <th>mileage</th>\n",
       "      <th>price</th>\n",
       "      <th>title</th>\n",
       "      <th>year</th>\n",
       "    </tr>\n",
       "  </thead>\n",
       "  <tbody>\n",
       "    <tr>\n",
       "      <th>2</th>\n",
       "      <td>23</td>\n",
       "      <td>1</td>\n",
       "      <td>164</td>\n",
       "      <td>پژو 2000فنی تازه تعمیر بدنه بدون خطو خش تخیف ب...</td>\n",
       "      <td>0</td>\n",
       "      <td>1752</td>\n",
       "      <td>8500000</td>\n",
       "      <td>پژو مدل 81 مشکی</td>\n",
       "      <td>1381</td>\n",
       "    </tr>\n",
       "    <tr>\n",
       "      <th>3</th>\n",
       "      <td>13</td>\n",
       "      <td>1</td>\n",
       "      <td>145</td>\n",
       "      <td>سلام.\\nماشین کاملا سالم همه چی فابریک متور زد ...</td>\n",
       "      <td>3</td>\n",
       "      <td>842</td>\n",
       "      <td>19500000</td>\n",
       "      <td>پاترول 2در</td>\n",
       "      <td>1372</td>\n",
       "    </tr>\n",
       "    <tr>\n",
       "      <th>4</th>\n",
       "      <td>11</td>\n",
       "      <td>1</td>\n",
       "      <td>108</td>\n",
       "      <td>سمند ال ایکس بدون رنگ تمامی سرویس ها انجام شده...</td>\n",
       "      <td>4</td>\n",
       "      <td>2978</td>\n",
       "      <td>23900000</td>\n",
       "      <td>سمند دوگانه کارخانه</td>\n",
       "      <td>1391</td>\n",
       "    </tr>\n",
       "    <tr>\n",
       "      <th>5</th>\n",
       "      <td>23</td>\n",
       "      <td>1</td>\n",
       "      <td>110</td>\n",
       "      <td>بیمه یکسال ده سال تخفیف دور رنگ شاسی پلمپ سالم</td>\n",
       "      <td>3</td>\n",
       "      <td>335</td>\n",
       "      <td>8500000</td>\n",
       "      <td>پژو405 مدل84</td>\n",
       "      <td>1384</td>\n",
       "    </tr>\n",
       "    <tr>\n",
       "      <th>6</th>\n",
       "      <td>0</td>\n",
       "      <td>1</td>\n",
       "      <td>110</td>\n",
       "      <td>ام وی ام چهار سیلندر مدل 93 فنی سالم بدون رنگ ...</td>\n",
       "      <td>2</td>\n",
       "      <td>105</td>\n",
       "      <td>18500000</td>\n",
       "      <td>ام وی ام 110 چهار سیلندر</td>\n",
       "      <td>1393</td>\n",
       "    </tr>\n",
       "    <tr>\n",
       "      <th>7</th>\n",
       "      <td>17</td>\n",
       "      <td>1</td>\n",
       "      <td>112</td>\n",
       "      <td>یک پراید مدل 87خونگی بدون رنگ سفید هفت سال تخف...</td>\n",
       "      <td>1</td>\n",
       "      <td>1054</td>\n",
       "      <td>11000000</td>\n",
       "      <td>پرایدصبامدل87خونگی فابریک</td>\n",
       "      <td>1387</td>\n",
       "    </tr>\n",
       "    <tr>\n",
       "      <th>8</th>\n",
       "      <td>18</td>\n",
       "      <td>1</td>\n",
       "      <td>6</td>\n",
       "      <td>مدل 80 رنگ سفید بیمه تا برج ۱۱  فنی سالم رینگ ...</td>\n",
       "      <td>3</td>\n",
       "      <td>1</td>\n",
       "      <td>7800000</td>\n",
       "      <td>پراید هاچ بک مدل 80</td>\n",
       "      <td>1380</td>\n",
       "    </tr>\n",
       "    <tr>\n",
       "      <th>9</th>\n",
       "      <td>10</td>\n",
       "      <td>1</td>\n",
       "      <td>23</td>\n",
       "      <td>در حد_ بسیار تمیز_ سرویس گارانتی انجام شده_ ما...</td>\n",
       "      <td>1</td>\n",
       "      <td>800</td>\n",
       "      <td>45000000</td>\n",
       "      <td>جک جی ۵ دنده ای</td>\n",
       "      <td>1393</td>\n",
       "    </tr>\n",
       "    <tr>\n",
       "      <th>10</th>\n",
       "      <td>17</td>\n",
       "      <td>0</td>\n",
       "      <td>11</td>\n",
       "      <td>مدل ۸۲برج۱۲بدون رنگ بیمه بدنه وثالث ۱۳سال تخفی...</td>\n",
       "      <td>4</td>\n",
       "      <td>1054</td>\n",
       "      <td>222000000</td>\n",
       "      <td>اف ام جفت باری</td>\n",
       "      <td>1393</td>\n",
       "    </tr>\n",
       "    <tr>\n",
       "      <th>12</th>\n",
       "      <td>17</td>\n",
       "      <td>1</td>\n",
       "      <td>71</td>\n",
       "      <td>پرایددوگانه فابریک سفیدفنی درجه یک تازه تعمیرب...</td>\n",
       "      <td>3</td>\n",
       "      <td>1488</td>\n",
       "      <td>11000000</td>\n",
       "      <td>پراید دوگانه فابربک</td>\n",
       "      <td>1388</td>\n",
       "    </tr>\n",
       "  </tbody>\n",
       "</table>\n",
       "</div>"
      ],
      "text/plain": [
       "    brand  category  created_at  \\\n",
       "2      23         1         164   \n",
       "3      13         1         145   \n",
       "4      11         1         108   \n",
       "5      23         1         110   \n",
       "6       0         1         110   \n",
       "7      17         1         112   \n",
       "8      18         1           6   \n",
       "9      10         1          23   \n",
       "10     17         0          11   \n",
       "12     17         1          71   \n",
       "\n",
       "                                          description  image_count  mileage  \\\n",
       "2   پژو 2000فنی تازه تعمیر بدنه بدون خطو خش تخیف ب...            0     1752   \n",
       "3   سلام.\\nماشین کاملا سالم همه چی فابریک متور زد ...            3      842   \n",
       "4   سمند ال ایکس بدون رنگ تمامی سرویس ها انجام شده...            4     2978   \n",
       "5      بیمه یکسال ده سال تخفیف دور رنگ شاسی پلمپ سالم            3      335   \n",
       "6   ام وی ام چهار سیلندر مدل 93 فنی سالم بدون رنگ ...            2      105   \n",
       "7   یک پراید مدل 87خونگی بدون رنگ سفید هفت سال تخف...            1     1054   \n",
       "8   مدل 80 رنگ سفید بیمه تا برج ۱۱  فنی سالم رینگ ...            3        1   \n",
       "9   در حد_ بسیار تمیز_ سرویس گارانتی انجام شده_ ما...            1      800   \n",
       "10  مدل ۸۲برج۱۲بدون رنگ بیمه بدنه وثالث ۱۳سال تخفی...            4     1054   \n",
       "12  پرایددوگانه فابریک سفیدفنی درجه یک تازه تعمیرب...            3     1488   \n",
       "\n",
       "        price                      title  year  \n",
       "2     8500000            پژو مدل 81 مشکی  1381  \n",
       "3    19500000                 پاترول 2در  1372  \n",
       "4    23900000        سمند دوگانه کارخانه  1391  \n",
       "5     8500000               پژو405 مدل84  1384  \n",
       "6    18500000   ام وی ام 110 چهار سیلندر  1393  \n",
       "7    11000000  پرایدصبامدل87خونگی فابریک  1387  \n",
       "8     7800000        پراید هاچ بک مدل 80  1380  \n",
       "9    45000000            جک جی ۵ دنده ای  1393  \n",
       "10  222000000             اف ام جفت باری  1393  \n",
       "12   11000000        پراید دوگانه فابربک  1388  "
      ]
     },
     "execution_count": 17,
     "metadata": {},
     "output_type": "execute_result"
    }
   ],
   "source": [
    "df.head(10)"
   ]
  },
  {
   "cell_type": "code",
   "execution_count": 18,
   "metadata": {
    "scrolled": false
   },
   "outputs": [
    {
     "data": {
      "text/plain": [
       "brand           int64\n",
       "category        int64\n",
       "created_at      int64\n",
       "description    object\n",
       "image_count     int64\n",
       "mileage         int64\n",
       "price           int64\n",
       "title          object\n",
       "year            int64\n",
       "dtype: object"
      ]
     },
     "execution_count": 18,
     "metadata": {},
     "output_type": "execute_result"
    }
   ],
   "source": [
    "df.dtypes"
   ]
  },
  {
   "cell_type": "markdown",
   "metadata": {},
   "source": [
    "Now we drop the categorical columns which we don't want to include in our **mutual info** calculation. "
   ]
  },
  {
   "cell_type": "code",
   "execution_count": 19,
   "metadata": {},
   "outputs": [],
   "source": [
    "y = df['price']\n",
    "\n",
    "X = df\n",
    "\n",
    "X = X.drop(columns=['description', 'title', 'price'], axis = 1)"
   ]
  },
  {
   "cell_type": "code",
   "execution_count": 20,
   "metadata": {
    "scrolled": true
   },
   "outputs": [
    {
     "data": {
      "text/html": [
       "<div>\n",
       "<style scoped>\n",
       "    .dataframe tbody tr th:only-of-type {\n",
       "        vertical-align: middle;\n",
       "    }\n",
       "\n",
       "    .dataframe tbody tr th {\n",
       "        vertical-align: top;\n",
       "    }\n",
       "\n",
       "    .dataframe thead th {\n",
       "        text-align: right;\n",
       "    }\n",
       "</style>\n",
       "<table border=\"1\" class=\"dataframe\">\n",
       "  <thead>\n",
       "    <tr style=\"text-align: right;\">\n",
       "      <th></th>\n",
       "      <th>brand</th>\n",
       "      <th>category</th>\n",
       "      <th>created_at</th>\n",
       "      <th>image_count</th>\n",
       "      <th>mileage</th>\n",
       "      <th>year</th>\n",
       "    </tr>\n",
       "  </thead>\n",
       "  <tbody>\n",
       "    <tr>\n",
       "      <th>2</th>\n",
       "      <td>23</td>\n",
       "      <td>1</td>\n",
       "      <td>164</td>\n",
       "      <td>0</td>\n",
       "      <td>1752</td>\n",
       "      <td>1381</td>\n",
       "    </tr>\n",
       "    <tr>\n",
       "      <th>3</th>\n",
       "      <td>13</td>\n",
       "      <td>1</td>\n",
       "      <td>145</td>\n",
       "      <td>3</td>\n",
       "      <td>842</td>\n",
       "      <td>1372</td>\n",
       "    </tr>\n",
       "    <tr>\n",
       "      <th>4</th>\n",
       "      <td>11</td>\n",
       "      <td>1</td>\n",
       "      <td>108</td>\n",
       "      <td>4</td>\n",
       "      <td>2978</td>\n",
       "      <td>1391</td>\n",
       "    </tr>\n",
       "    <tr>\n",
       "      <th>5</th>\n",
       "      <td>23</td>\n",
       "      <td>1</td>\n",
       "      <td>110</td>\n",
       "      <td>3</td>\n",
       "      <td>335</td>\n",
       "      <td>1384</td>\n",
       "    </tr>\n",
       "    <tr>\n",
       "      <th>6</th>\n",
       "      <td>0</td>\n",
       "      <td>1</td>\n",
       "      <td>110</td>\n",
       "      <td>2</td>\n",
       "      <td>105</td>\n",
       "      <td>1393</td>\n",
       "    </tr>\n",
       "    <tr>\n",
       "      <th>7</th>\n",
       "      <td>17</td>\n",
       "      <td>1</td>\n",
       "      <td>112</td>\n",
       "      <td>1</td>\n",
       "      <td>1054</td>\n",
       "      <td>1387</td>\n",
       "    </tr>\n",
       "    <tr>\n",
       "      <th>8</th>\n",
       "      <td>18</td>\n",
       "      <td>1</td>\n",
       "      <td>6</td>\n",
       "      <td>3</td>\n",
       "      <td>1</td>\n",
       "      <td>1380</td>\n",
       "    </tr>\n",
       "    <tr>\n",
       "      <th>9</th>\n",
       "      <td>10</td>\n",
       "      <td>1</td>\n",
       "      <td>23</td>\n",
       "      <td>1</td>\n",
       "      <td>800</td>\n",
       "      <td>1393</td>\n",
       "    </tr>\n",
       "    <tr>\n",
       "      <th>10</th>\n",
       "      <td>17</td>\n",
       "      <td>0</td>\n",
       "      <td>11</td>\n",
       "      <td>4</td>\n",
       "      <td>1054</td>\n",
       "      <td>1393</td>\n",
       "    </tr>\n",
       "    <tr>\n",
       "      <th>12</th>\n",
       "      <td>17</td>\n",
       "      <td>1</td>\n",
       "      <td>71</td>\n",
       "      <td>3</td>\n",
       "      <td>1488</td>\n",
       "      <td>1388</td>\n",
       "    </tr>\n",
       "  </tbody>\n",
       "</table>\n",
       "</div>"
      ],
      "text/plain": [
       "    brand  category  created_at  image_count  mileage  year\n",
       "2      23         1         164            0     1752  1381\n",
       "3      13         1         145            3      842  1372\n",
       "4      11         1         108            4     2978  1391\n",
       "5      23         1         110            3      335  1384\n",
       "6       0         1         110            2      105  1393\n",
       "7      17         1         112            1     1054  1387\n",
       "8      18         1           6            3        1  1380\n",
       "9      10         1          23            1      800  1393\n",
       "10     17         0          11            4     1054  1393\n",
       "12     17         1          71            3     1488  1388"
      ]
     },
     "execution_count": 20,
     "metadata": {},
     "output_type": "execute_result"
    }
   ],
   "source": [
    "X.head(10)"
   ]
  },
  {
   "cell_type": "code",
   "execution_count": 21,
   "metadata": {
    "scrolled": true
   },
   "outputs": [
    {
     "data": {
      "text/plain": [
       "year           0.381298\n",
       "brand          0.269676\n",
       "category       0.073586\n",
       "mileage        0.067430\n",
       "image_count    0.005853\n",
       "created_at     0.000000\n",
       "dtype: float64"
      ]
     },
     "execution_count": 21,
     "metadata": {},
     "output_type": "execute_result"
    }
   ],
   "source": [
    "from sklearn.model_selection import train_test_split\n",
    "from sklearn.feature_selection import mutual_info_regression\n",
    "\n",
    "X_train, X_test, y_train, y_test = train_test_split(X, y, test_size = 0.4, random_state = 0)\n",
    "mi = mutual_info_regression(X_train, y_train)\n",
    "mi = pd.Series(mi)\n",
    "mi.index = X_train.columns\n",
    "mi.sort_values(ascending = False, inplace = True)\n",
    "\n",
    "mi"
   ]
  },
  {
   "cell_type": "code",
   "execution_count": 22,
   "metadata": {
    "scrolled": true
   },
   "outputs": [
    {
     "data": {
      "image/png": "[encoded data removed]",
      "text/plain": [
       "<Figure size 432x288 with 1 Axes>"
      ]
     },
     "metadata": {
      "needs_background": "light"
     },
     "output_type": "display_data"
    }
   ],
   "source": [
    "import matplotlib.pyplot as plt\n",
    "\n",
    "plt.title('Mutual information with respect to features')\n",
    "mi.plot.bar()\n",
    "plt.show()"
   ]
  },
  {
   "cell_type": "markdown",
   "metadata": {},
   "source": [
    "#### Q1) \n",
    "This plot shows that only the columns year, brand, category, and mileage are giving us useful info about the price of each row. We can simply eliminate the other columns since they don't have much gain. "
   ]
  },
  {
   "cell_type": "markdown",
   "metadata": {},
   "source": [
    "### Words Exctraction:"
   ]
  },
  {
   "cell_type": "code",
   "execution_count": 23,
   "metadata": {},
   "outputs": [
    {
     "name": "stdout",
     "output_type": "stream",
     "text": [
      "Some stop words:\n",
      "['آزادانه', 'آسان', 'آسيب پذيرند', 'آشكارا', 'آشنايند', 'آمرانه', 'آن', 'آن گاه', 'آن ها', 'آنان', 'آناني', 'آنجا', 'آنچنان', 'آنچنان كه', 'آنچه']\n"
     ]
    }
   ],
   "source": [
    "with open('stop_words.txt') as f:\n",
    "    ignore = [line.rstrip() for line in f]\n",
    "\n",
    "ignore = [x.strip() for x in ignore]\n",
    "print(\"Some stop words:\")\n",
    "print(ignore[30:45])"
   ]
  },
  {
   "cell_type": "code",
   "execution_count": 54,
   "metadata": {
    "scrolled": true
   },
   "outputs": [],
   "source": [
    "import hazm\n",
    "from collections import Counter\n",
    "\n",
    "words_cnt = Counter()\n",
    "\n",
    "for sentence in df['description']:\n",
    "    words = hazm.word_tokenize(sentence)\n",
    "    for w in words:\n",
    "        if w in ignore:\n",
    "            continue\n",
    "        \n",
    "        words_cnt[w] = words_cnt.get(w, 0) + 1"
   ]
  },
  {
   "cell_type": "code",
   "execution_count": 25,
   "metadata": {},
   "outputs": [],
   "source": [
    "import hazm\n",
    "from collections import Counter\n",
    "\n",
    "words_cnt = Counter()\n",
    "\n",
    "for sentence in df['title']:\n",
    "    words = hazm.word_tokenize(sentence)\n",
    "    for w in words:\n",
    "        if w in ignore:\n",
    "            continue\n",
    "        \n",
    "        words_cnt[w] = words_cnt.get(w, 0) + 1"
   ]
  },
  {
   "cell_type": "code",
   "execution_count": 55,
   "metadata": {
    "scrolled": true
   },
   "outputs": [
    {
     "name": "stdout",
     "output_type": "stream",
     "text": [
      "('بیمه', 74031)\n",
      "('رنگ', 64515)\n",
      "('سالم', 45859)\n",
      "('تخفیف', 37424)\n",
      "('فنی', 29945)\n",
      "('سال', 28299)\n",
      "('لاستیک', 25666)\n",
      "('نو', 24745)\n",
      "('ماشین', 21069)\n",
      "('مدل', 20037)\n",
      "('برج', 15567)\n",
      "('یک', 14526)\n",
      "('تمیز', 13091)\n",
      "('دوگانه', 11642)\n",
      "('روکش', 11117)\n",
      "('موتور', 10288)\n",
      "('تماس', 10011)\n",
      "('شرط', 9962)\n",
      "('سفید', 9896)\n",
      "('خط', 9879)\n",
      "('گلگیر', 9409)\n",
      "('بسیار', 8909)\n",
      "('پراید', 8684)\n",
      "('داره', 8453)\n",
      "('بی', 8345)\n",
      "('تعویض', 8278)\n",
      "('دزدگیر', 8237)\n",
      "('درصد', 8165)\n",
      "('مصرف', 7980)\n",
      "('فابریک', 7517)\n",
      "('خش', 7514)\n",
      "('فوق', 7171)\n",
      "('ضبط', 7049)\n",
      "('کننده', 7021)\n",
      "('کاملا', 6912)\n",
      "('سلام', 6683)\n",
      "('دارای', 6649)\n",
      "('واقعی', 6539)\n",
      "('کم', 6462)\n",
      "('کارکرد', 6070)\n",
      "('بدنه', 5850)\n",
      "('صندلی', 5766)\n",
      "('دو', 5526)\n",
      "('اول', 5446)\n",
      "('میباشد', 5406)\n",
      "('العاده', 5374)\n",
      "('دیوار', 5337)\n",
      "('سند', 5261)\n",
      "('تعمیر', 5222)\n",
      "('ای', 5212)\n"
     ]
    }
   ],
   "source": [
    "most_common_words = words_cnt.most_common(50)\n",
    "for word in most_common_words[:50]:\n",
    "    print(word)"
   ]
  },
  {
   "cell_type": "markdown",
   "metadata": {},
   "source": [
    "#### Q3)\n",
    "\n",
    "A list of most common words used is provided above. We manually choose 10 of them which seem to give us more information about the price. For example the word 'دوگانه‌سوز' indicates a feature in the car which has an impact on its price. We avoid using the words indicating the brand of the car (such has: پژو - پراید) since we already have used one hot implementation for brands.  "
   ]
  },
  {
   "cell_type": "markdown",
   "metadata": {
    "scrolled": true
   },
   "source": [
    "### One Hot Encoding:\n",
    "\n",
    "We use one hot encoding for the following features:\n",
    "\n",
    "1. Brand\n",
    "2. Heavy/Light category\n",
    "3. 10 most common words"
   ]
  },
  {
   "cell_type": "code",
   "execution_count": 27,
   "metadata": {
    "scrolled": true
   },
   "outputs": [],
   "source": [
    "brand_one_hot = pd.get_dummies(df['brand'], prefix='brand')\n",
    "df = df.drop(['brand'], axis = 1)\n",
    "df = pd.concat([df, brand_one_hot], axis = 1)"
   ]
  },
  {
   "cell_type": "code",
   "execution_count": 28,
   "metadata": {},
   "outputs": [],
   "source": [
    "cat_one_hot = pd.get_dummies(df['category'], prefix = 'cat')\n",
    "df = df.drop(['category'], axis = 1)\n",
    "df = pd.concat([df, cat_one_hot], axis = 1)"
   ]
  },
  {
   "cell_type": "code",
   "execution_count": 29,
   "metadata": {},
   "outputs": [
    {
     "name": "stdout",
     "output_type": "stream",
     "text": [
      "[11642 11117 37424 24745 64515  1696  2323 45859 74031  9896]\n"
     ]
    },
    {
     "data": {
      "text/html": [
       "<div>\n",
       "<style scoped>\n",
       "    .dataframe tbody tr th:only-of-type {\n",
       "        vertical-align: middle;\n",
       "    }\n",
       "\n",
       "    .dataframe tbody tr th {\n",
       "        vertical-align: top;\n",
       "    }\n",
       "\n",
       "    .dataframe thead th {\n",
       "        text-align: right;\n",
       "    }\n",
       "</style>\n",
       "<table border=\"1\" class=\"dataframe\">\n",
       "  <thead>\n",
       "    <tr style=\"text-align: right;\">\n",
       "      <th></th>\n",
       "      <th>index</th>\n",
       "      <th>created_at</th>\n",
       "      <th>image_count</th>\n",
       "      <th>mileage</th>\n",
       "      <th>price</th>\n",
       "      <th>year</th>\n",
       "      <th>brand_0</th>\n",
       "      <th>brand_1</th>\n",
       "      <th>brand_2</th>\n",
       "      <th>brand_3</th>\n",
       "      <th>...</th>\n",
       "      <th>دوگانه</th>\n",
       "      <th>روکش</th>\n",
       "      <th>تخفیف</th>\n",
       "      <th>نو</th>\n",
       "      <th>رنگ</th>\n",
       "      <th>وانت</th>\n",
       "      <th>مدادی</th>\n",
       "      <th>سالم</th>\n",
       "      <th>بیمه</th>\n",
       "      <th>سفید</th>\n",
       "    </tr>\n",
       "  </thead>\n",
       "  <tbody>\n",
       "    <tr>\n",
       "      <th>0</th>\n",
       "      <td>2</td>\n",
       "      <td>164</td>\n",
       "      <td>0</td>\n",
       "      <td>1752</td>\n",
       "      <td>8500000</td>\n",
       "      <td>1381</td>\n",
       "      <td>0</td>\n",
       "      <td>0</td>\n",
       "      <td>0</td>\n",
       "      <td>0</td>\n",
       "      <td>...</td>\n",
       "      <td>0</td>\n",
       "      <td>0</td>\n",
       "      <td>0</td>\n",
       "      <td>0</td>\n",
       "      <td>0</td>\n",
       "      <td>0</td>\n",
       "      <td>0</td>\n",
       "      <td>0</td>\n",
       "      <td>2</td>\n",
       "      <td>0</td>\n",
       "    </tr>\n",
       "    <tr>\n",
       "      <th>1</th>\n",
       "      <td>3</td>\n",
       "      <td>145</td>\n",
       "      <td>3</td>\n",
       "      <td>842</td>\n",
       "      <td>19500000</td>\n",
       "      <td>1372</td>\n",
       "      <td>0</td>\n",
       "      <td>0</td>\n",
       "      <td>0</td>\n",
       "      <td>0</td>\n",
       "      <td>...</td>\n",
       "      <td>1</td>\n",
       "      <td>0</td>\n",
       "      <td>0</td>\n",
       "      <td>1</td>\n",
       "      <td>0</td>\n",
       "      <td>0</td>\n",
       "      <td>0</td>\n",
       "      <td>1</td>\n",
       "      <td>0</td>\n",
       "      <td>0</td>\n",
       "    </tr>\n",
       "    <tr>\n",
       "      <th>2</th>\n",
       "      <td>4</td>\n",
       "      <td>108</td>\n",
       "      <td>4</td>\n",
       "      <td>2978</td>\n",
       "      <td>23900000</td>\n",
       "      <td>1391</td>\n",
       "      <td>0</td>\n",
       "      <td>0</td>\n",
       "      <td>0</td>\n",
       "      <td>0</td>\n",
       "      <td>...</td>\n",
       "      <td>0</td>\n",
       "      <td>0</td>\n",
       "      <td>0</td>\n",
       "      <td>0</td>\n",
       "      <td>1</td>\n",
       "      <td>0</td>\n",
       "      <td>0</td>\n",
       "      <td>0</td>\n",
       "      <td>0</td>\n",
       "      <td>0</td>\n",
       "    </tr>\n",
       "    <tr>\n",
       "      <th>3</th>\n",
       "      <td>5</td>\n",
       "      <td>110</td>\n",
       "      <td>3</td>\n",
       "      <td>335</td>\n",
       "      <td>8500000</td>\n",
       "      <td>1384</td>\n",
       "      <td>0</td>\n",
       "      <td>0</td>\n",
       "      <td>0</td>\n",
       "      <td>0</td>\n",
       "      <td>...</td>\n",
       "      <td>0</td>\n",
       "      <td>0</td>\n",
       "      <td>1</td>\n",
       "      <td>0</td>\n",
       "      <td>1</td>\n",
       "      <td>0</td>\n",
       "      <td>0</td>\n",
       "      <td>1</td>\n",
       "      <td>1</td>\n",
       "      <td>0</td>\n",
       "    </tr>\n",
       "    <tr>\n",
       "      <th>4</th>\n",
       "      <td>6</td>\n",
       "      <td>110</td>\n",
       "      <td>2</td>\n",
       "      <td>105</td>\n",
       "      <td>18500000</td>\n",
       "      <td>1393</td>\n",
       "      <td>1</td>\n",
       "      <td>0</td>\n",
       "      <td>0</td>\n",
       "      <td>0</td>\n",
       "      <td>...</td>\n",
       "      <td>0</td>\n",
       "      <td>0</td>\n",
       "      <td>1</td>\n",
       "      <td>0</td>\n",
       "      <td>1</td>\n",
       "      <td>0</td>\n",
       "      <td>0</td>\n",
       "      <td>1</td>\n",
       "      <td>1</td>\n",
       "      <td>0</td>\n",
       "    </tr>\n",
       "    <tr>\n",
       "      <th>...</th>\n",
       "      <td>...</td>\n",
       "      <td>...</td>\n",
       "      <td>...</td>\n",
       "      <td>...</td>\n",
       "      <td>...</td>\n",
       "      <td>...</td>\n",
       "      <td>...</td>\n",
       "      <td>...</td>\n",
       "      <td>...</td>\n",
       "      <td>...</td>\n",
       "      <td>...</td>\n",
       "      <td>...</td>\n",
       "      <td>...</td>\n",
       "      <td>...</td>\n",
       "      <td>...</td>\n",
       "      <td>...</td>\n",
       "      <td>...</td>\n",
       "      <td>...</td>\n",
       "      <td>...</td>\n",
       "      <td>...</td>\n",
       "      <td>...</td>\n",
       "    </tr>\n",
       "    <tr>\n",
       "      <th>110049</th>\n",
       "      <td>130435</td>\n",
       "      <td>123</td>\n",
       "      <td>2</td>\n",
       "      <td>822</td>\n",
       "      <td>30000000</td>\n",
       "      <td>1390</td>\n",
       "      <td>0</td>\n",
       "      <td>0</td>\n",
       "      <td>0</td>\n",
       "      <td>1</td>\n",
       "      <td>...</td>\n",
       "      <td>0</td>\n",
       "      <td>1</td>\n",
       "      <td>0</td>\n",
       "      <td>0</td>\n",
       "      <td>1</td>\n",
       "      <td>0</td>\n",
       "      <td>0</td>\n",
       "      <td>1</td>\n",
       "      <td>0</td>\n",
       "      <td>0</td>\n",
       "    </tr>\n",
       "    <tr>\n",
       "      <th>110050</th>\n",
       "      <td>130436</td>\n",
       "      <td>129</td>\n",
       "      <td>3</td>\n",
       "      <td>531</td>\n",
       "      <td>11000000</td>\n",
       "      <td>1384</td>\n",
       "      <td>0</td>\n",
       "      <td>0</td>\n",
       "      <td>0</td>\n",
       "      <td>0</td>\n",
       "      <td>...</td>\n",
       "      <td>0</td>\n",
       "      <td>0</td>\n",
       "      <td>0</td>\n",
       "      <td>0</td>\n",
       "      <td>1</td>\n",
       "      <td>0</td>\n",
       "      <td>0</td>\n",
       "      <td>0</td>\n",
       "      <td>1</td>\n",
       "      <td>0</td>\n",
       "    </tr>\n",
       "    <tr>\n",
       "      <th>110051</th>\n",
       "      <td>130438</td>\n",
       "      <td>149</td>\n",
       "      <td>2</td>\n",
       "      <td>1054</td>\n",
       "      <td>48000000</td>\n",
       "      <td>1393</td>\n",
       "      <td>0</td>\n",
       "      <td>0</td>\n",
       "      <td>0</td>\n",
       "      <td>0</td>\n",
       "      <td>...</td>\n",
       "      <td>0</td>\n",
       "      <td>0</td>\n",
       "      <td>1</td>\n",
       "      <td>0</td>\n",
       "      <td>1</td>\n",
       "      <td>0</td>\n",
       "      <td>0</td>\n",
       "      <td>0</td>\n",
       "      <td>1</td>\n",
       "      <td>1</td>\n",
       "    </tr>\n",
       "    <tr>\n",
       "      <th>110052</th>\n",
       "      <td>130441</td>\n",
       "      <td>101</td>\n",
       "      <td>4</td>\n",
       "      <td>281</td>\n",
       "      <td>6900000</td>\n",
       "      <td>1379</td>\n",
       "      <td>0</td>\n",
       "      <td>0</td>\n",
       "      <td>0</td>\n",
       "      <td>0</td>\n",
       "      <td>...</td>\n",
       "      <td>0</td>\n",
       "      <td>0</td>\n",
       "      <td>0</td>\n",
       "      <td>0</td>\n",
       "      <td>1</td>\n",
       "      <td>0</td>\n",
       "      <td>0</td>\n",
       "      <td>2</td>\n",
       "      <td>2</td>\n",
       "      <td>0</td>\n",
       "    </tr>\n",
       "    <tr>\n",
       "      <th>110053</th>\n",
       "      <td>130442</td>\n",
       "      <td>7</td>\n",
       "      <td>3</td>\n",
       "      <td>2379</td>\n",
       "      <td>17400000</td>\n",
       "      <td>1393</td>\n",
       "      <td>0</td>\n",
       "      <td>0</td>\n",
       "      <td>0</td>\n",
       "      <td>0</td>\n",
       "      <td>...</td>\n",
       "      <td>1</td>\n",
       "      <td>1</td>\n",
       "      <td>0</td>\n",
       "      <td>0</td>\n",
       "      <td>0</td>\n",
       "      <td>0</td>\n",
       "      <td>0</td>\n",
       "      <td>0</td>\n",
       "      <td>1</td>\n",
       "      <td>0</td>\n",
       "    </tr>\n",
       "  </tbody>\n",
       "</table>\n",
       "<p>110054 rows × 44 columns</p>\n",
       "</div>"
      ],
      "text/plain": [
       "         index  created_at  image_count  mileage     price  year  brand_0  \\\n",
       "0            2         164            0     1752   8500000  1381        0   \n",
       "1            3         145            3      842  19500000  1372        0   \n",
       "2            4         108            4     2978  23900000  1391        0   \n",
       "3            5         110            3      335   8500000  1384        0   \n",
       "4            6         110            2      105  18500000  1393        1   \n",
       "...        ...         ...          ...      ...       ...   ...      ...   \n",
       "110049  130435         123            2      822  30000000  1390        0   \n",
       "110050  130436         129            3      531  11000000  1384        0   \n",
       "110051  130438         149            2     1054  48000000  1393        0   \n",
       "110052  130441         101            4      281   6900000  1379        0   \n",
       "110053  130442           7            3     2379  17400000  1393        0   \n",
       "\n",
       "        brand_1  brand_2  brand_3  ...  دوگانه  روکش  تخفیف  نو  رنگ  وانت  \\\n",
       "0             0        0        0  ...       0     0      0   0    0     0   \n",
       "1             0        0        0  ...       1     0      0   1    0     0   \n",
       "2             0        0        0  ...       0     0      0   0    1     0   \n",
       "3             0        0        0  ...       0     0      1   0    1     0   \n",
       "4             0        0        0  ...       0     0      1   0    1     0   \n",
       "...         ...      ...      ...  ...     ...   ...    ...  ..  ...   ...   \n",
       "110049        0        0        1  ...       0     1      0   0    1     0   \n",
       "110050        0        0        0  ...       0     0      0   0    1     0   \n",
       "110051        0        0        0  ...       0     0      1   0    1     0   \n",
       "110052        0        0        0  ...       0     0      0   0    1     0   \n",
       "110053        0        0        0  ...       1     1      0   0    0     0   \n",
       "\n",
       "        مدادی  سالم  بیمه  سفید  \n",
       "0           0     0     2     0  \n",
       "1           0     1     0     0  \n",
       "2           0     0     0     0  \n",
       "3           0     1     1     0  \n",
       "4           0     1     1     0  \n",
       "...       ...   ...   ...   ...  \n",
       "110049      0     1     0     0  \n",
       "110050      0     0     1     0  \n",
       "110051      0     0     1     1  \n",
       "110052      0     2     2     0  \n",
       "110053      0     0     1     0  \n",
       "\n",
       "[110054 rows x 44 columns]"
      ]
     },
     "metadata": {},
     "output_type": "display_data"
    }
   ],
   "source": [
    "from sklearn.feature_extraction.text import CountVectorizer\n",
    "import hazm\n",
    "\n",
    "ndf = df.drop(['description', 'title'], axis = 1)\n",
    "ndf = ndf.reset_index()\n",
    "\n",
    "\n",
    "words = ['دوگانه', 'روکش', 'تخفیف', 'نو', 'رنگ', 'وانت', 'مدادی', 'سالم', 'بیمه', 'سفید']\n",
    "\n",
    "cnt_vec = CountVectorizer(analyzer = 'word', tokenizer = hazm.word_tokenize)\n",
    "\n",
    "fit = cnt_vec.fit_transform(df['description'])\n",
    "indices = [cnt_vec.vocabulary_[word] for word in words]\n",
    "sel_fit = fit[:, indices].toarray()\n",
    "print(sel_fit.sum(axis = 0))\n",
    "ndf[words] = pd.DataFrame(sel_fit, columns = words)\n",
    "\n",
    "\n",
    "display(ndf)"
   ]
  },
  {
   "cell_type": "markdown",
   "metadata": {},
   "source": [
    "### Normalization:"
   ]
  },
  {
   "cell_type": "code",
   "execution_count": 100,
   "metadata": {},
   "outputs": [],
   "source": [
    "X = ndf.drop(['price', 'index'], axis = 1)\n",
    "y = ndf['price']"
   ]
  },
  {
   "cell_type": "code",
   "execution_count": 31,
   "metadata": {
    "scrolled": true
   },
   "outputs": [],
   "source": [
    "def normalize(df):\n",
    "    result = df.copy()\n",
    "    for feature_name in df.columns:\n",
    "        max_value = df[feature_name].max()\n",
    "        min_value = df[feature_name].min()\n",
    "        result[feature_name] = (df[feature_name] - min_value) / (max_value - min_value)\n",
    "    return result\n",
    "\n",
    "X = normalize(X)"
   ]
  },
  {
   "cell_type": "code",
   "execution_count": 32,
   "metadata": {
    "scrolled": true
   },
   "outputs": [
    {
     "data": {
      "text/html": [
       "<div>\n",
       "<style scoped>\n",
       "    .dataframe tbody tr th:only-of-type {\n",
       "        vertical-align: middle;\n",
       "    }\n",
       "\n",
       "    .dataframe tbody tr th {\n",
       "        vertical-align: top;\n",
       "    }\n",
       "\n",
       "    .dataframe thead th {\n",
       "        text-align: right;\n",
       "    }\n",
       "</style>\n",
       "<table border=\"1\" class=\"dataframe\">\n",
       "  <thead>\n",
       "    <tr style=\"text-align: right;\">\n",
       "      <th></th>\n",
       "      <th>created_at</th>\n",
       "      <th>image_count</th>\n",
       "      <th>mileage</th>\n",
       "      <th>year</th>\n",
       "      <th>brand_0</th>\n",
       "      <th>brand_1</th>\n",
       "      <th>brand_2</th>\n",
       "      <th>brand_3</th>\n",
       "      <th>brand_4</th>\n",
       "      <th>brand_5</th>\n",
       "      <th>...</th>\n",
       "      <th>دوگانه</th>\n",
       "      <th>روکش</th>\n",
       "      <th>تخفیف</th>\n",
       "      <th>نو</th>\n",
       "      <th>رنگ</th>\n",
       "      <th>وانت</th>\n",
       "      <th>مدادی</th>\n",
       "      <th>سالم</th>\n",
       "      <th>بیمه</th>\n",
       "      <th>سفید</th>\n",
       "    </tr>\n",
       "  </thead>\n",
       "  <tbody>\n",
       "    <tr>\n",
       "      <th>0</th>\n",
       "      <td>0.982036</td>\n",
       "      <td>0.000000</td>\n",
       "      <td>0.548700</td>\n",
       "      <td>0.517241</td>\n",
       "      <td>0.0</td>\n",
       "      <td>0.0</td>\n",
       "      <td>0.0</td>\n",
       "      <td>0.0</td>\n",
       "      <td>0.0</td>\n",
       "      <td>0.0</td>\n",
       "      <td>...</td>\n",
       "      <td>0.000000</td>\n",
       "      <td>0.00</td>\n",
       "      <td>0.0</td>\n",
       "      <td>0.000000</td>\n",
       "      <td>0.000000</td>\n",
       "      <td>0.0</td>\n",
       "      <td>0.0</td>\n",
       "      <td>0.000000</td>\n",
       "      <td>0.4</td>\n",
       "      <td>0.00</td>\n",
       "    </tr>\n",
       "    <tr>\n",
       "      <th>1</th>\n",
       "      <td>0.868263</td>\n",
       "      <td>0.214286</td>\n",
       "      <td>0.263702</td>\n",
       "      <td>0.206897</td>\n",
       "      <td>0.0</td>\n",
       "      <td>0.0</td>\n",
       "      <td>0.0</td>\n",
       "      <td>0.0</td>\n",
       "      <td>0.0</td>\n",
       "      <td>0.0</td>\n",
       "      <td>...</td>\n",
       "      <td>0.333333</td>\n",
       "      <td>0.00</td>\n",
       "      <td>0.0</td>\n",
       "      <td>0.111111</td>\n",
       "      <td>0.000000</td>\n",
       "      <td>0.0</td>\n",
       "      <td>0.0</td>\n",
       "      <td>0.142857</td>\n",
       "      <td>0.0</td>\n",
       "      <td>0.00</td>\n",
       "    </tr>\n",
       "    <tr>\n",
       "      <th>2</th>\n",
       "      <td>0.646707</td>\n",
       "      <td>0.285714</td>\n",
       "      <td>0.932665</td>\n",
       "      <td>0.862069</td>\n",
       "      <td>0.0</td>\n",
       "      <td>0.0</td>\n",
       "      <td>0.0</td>\n",
       "      <td>0.0</td>\n",
       "      <td>0.0</td>\n",
       "      <td>0.0</td>\n",
       "      <td>...</td>\n",
       "      <td>0.000000</td>\n",
       "      <td>0.00</td>\n",
       "      <td>0.0</td>\n",
       "      <td>0.000000</td>\n",
       "      <td>0.166667</td>\n",
       "      <td>0.0</td>\n",
       "      <td>0.0</td>\n",
       "      <td>0.000000</td>\n",
       "      <td>0.0</td>\n",
       "      <td>0.00</td>\n",
       "    </tr>\n",
       "    <tr>\n",
       "      <th>3</th>\n",
       "      <td>0.658683</td>\n",
       "      <td>0.214286</td>\n",
       "      <td>0.104917</td>\n",
       "      <td>0.620690</td>\n",
       "      <td>0.0</td>\n",
       "      <td>0.0</td>\n",
       "      <td>0.0</td>\n",
       "      <td>0.0</td>\n",
       "      <td>0.0</td>\n",
       "      <td>0.0</td>\n",
       "      <td>...</td>\n",
       "      <td>0.000000</td>\n",
       "      <td>0.00</td>\n",
       "      <td>0.2</td>\n",
       "      <td>0.000000</td>\n",
       "      <td>0.166667</td>\n",
       "      <td>0.0</td>\n",
       "      <td>0.0</td>\n",
       "      <td>0.142857</td>\n",
       "      <td>0.2</td>\n",
       "      <td>0.00</td>\n",
       "    </tr>\n",
       "    <tr>\n",
       "      <th>4</th>\n",
       "      <td>0.658683</td>\n",
       "      <td>0.142857</td>\n",
       "      <td>0.032884</td>\n",
       "      <td>0.931034</td>\n",
       "      <td>1.0</td>\n",
       "      <td>0.0</td>\n",
       "      <td>0.0</td>\n",
       "      <td>0.0</td>\n",
       "      <td>0.0</td>\n",
       "      <td>0.0</td>\n",
       "      <td>...</td>\n",
       "      <td>0.000000</td>\n",
       "      <td>0.00</td>\n",
       "      <td>0.2</td>\n",
       "      <td>0.000000</td>\n",
       "      <td>0.166667</td>\n",
       "      <td>0.0</td>\n",
       "      <td>0.0</td>\n",
       "      <td>0.142857</td>\n",
       "      <td>0.2</td>\n",
       "      <td>0.00</td>\n",
       "    </tr>\n",
       "    <tr>\n",
       "      <th>...</th>\n",
       "      <td>...</td>\n",
       "      <td>...</td>\n",
       "      <td>...</td>\n",
       "      <td>...</td>\n",
       "      <td>...</td>\n",
       "      <td>...</td>\n",
       "      <td>...</td>\n",
       "      <td>...</td>\n",
       "      <td>...</td>\n",
       "      <td>...</td>\n",
       "      <td>...</td>\n",
       "      <td>...</td>\n",
       "      <td>...</td>\n",
       "      <td>...</td>\n",
       "      <td>...</td>\n",
       "      <td>...</td>\n",
       "      <td>...</td>\n",
       "      <td>...</td>\n",
       "      <td>...</td>\n",
       "      <td>...</td>\n",
       "      <td>...</td>\n",
       "    </tr>\n",
       "    <tr>\n",
       "      <th>110049</th>\n",
       "      <td>0.736527</td>\n",
       "      <td>0.142857</td>\n",
       "      <td>0.257438</td>\n",
       "      <td>0.827586</td>\n",
       "      <td>0.0</td>\n",
       "      <td>0.0</td>\n",
       "      <td>0.0</td>\n",
       "      <td>1.0</td>\n",
       "      <td>0.0</td>\n",
       "      <td>0.0</td>\n",
       "      <td>...</td>\n",
       "      <td>0.000000</td>\n",
       "      <td>0.25</td>\n",
       "      <td>0.0</td>\n",
       "      <td>0.000000</td>\n",
       "      <td>0.166667</td>\n",
       "      <td>0.0</td>\n",
       "      <td>0.0</td>\n",
       "      <td>0.142857</td>\n",
       "      <td>0.0</td>\n",
       "      <td>0.00</td>\n",
       "    </tr>\n",
       "    <tr>\n",
       "      <th>110050</th>\n",
       "      <td>0.772455</td>\n",
       "      <td>0.214286</td>\n",
       "      <td>0.166301</td>\n",
       "      <td>0.620690</td>\n",
       "      <td>0.0</td>\n",
       "      <td>0.0</td>\n",
       "      <td>0.0</td>\n",
       "      <td>0.0</td>\n",
       "      <td>0.0</td>\n",
       "      <td>0.0</td>\n",
       "      <td>...</td>\n",
       "      <td>0.000000</td>\n",
       "      <td>0.00</td>\n",
       "      <td>0.0</td>\n",
       "      <td>0.000000</td>\n",
       "      <td>0.166667</td>\n",
       "      <td>0.0</td>\n",
       "      <td>0.0</td>\n",
       "      <td>0.000000</td>\n",
       "      <td>0.2</td>\n",
       "      <td>0.00</td>\n",
       "    </tr>\n",
       "    <tr>\n",
       "      <th>110051</th>\n",
       "      <td>0.892216</td>\n",
       "      <td>0.142857</td>\n",
       "      <td>0.330097</td>\n",
       "      <td>0.931034</td>\n",
       "      <td>0.0</td>\n",
       "      <td>0.0</td>\n",
       "      <td>0.0</td>\n",
       "      <td>0.0</td>\n",
       "      <td>0.0</td>\n",
       "      <td>0.0</td>\n",
       "      <td>...</td>\n",
       "      <td>0.000000</td>\n",
       "      <td>0.00</td>\n",
       "      <td>0.2</td>\n",
       "      <td>0.000000</td>\n",
       "      <td>0.166667</td>\n",
       "      <td>0.0</td>\n",
       "      <td>0.0</td>\n",
       "      <td>0.000000</td>\n",
       "      <td>0.2</td>\n",
       "      <td>0.25</td>\n",
       "    </tr>\n",
       "    <tr>\n",
       "      <th>110052</th>\n",
       "      <td>0.604790</td>\n",
       "      <td>0.285714</td>\n",
       "      <td>0.088005</td>\n",
       "      <td>0.448276</td>\n",
       "      <td>0.0</td>\n",
       "      <td>0.0</td>\n",
       "      <td>0.0</td>\n",
       "      <td>0.0</td>\n",
       "      <td>0.0</td>\n",
       "      <td>0.0</td>\n",
       "      <td>...</td>\n",
       "      <td>0.000000</td>\n",
       "      <td>0.00</td>\n",
       "      <td>0.0</td>\n",
       "      <td>0.000000</td>\n",
       "      <td>0.166667</td>\n",
       "      <td>0.0</td>\n",
       "      <td>0.0</td>\n",
       "      <td>0.285714</td>\n",
       "      <td>0.4</td>\n",
       "      <td>0.00</td>\n",
       "    </tr>\n",
       "    <tr>\n",
       "      <th>110053</th>\n",
       "      <td>0.041916</td>\n",
       "      <td>0.214286</td>\n",
       "      <td>0.745067</td>\n",
       "      <td>0.931034</td>\n",
       "      <td>0.0</td>\n",
       "      <td>0.0</td>\n",
       "      <td>0.0</td>\n",
       "      <td>0.0</td>\n",
       "      <td>0.0</td>\n",
       "      <td>0.0</td>\n",
       "      <td>...</td>\n",
       "      <td>0.333333</td>\n",
       "      <td>0.25</td>\n",
       "      <td>0.0</td>\n",
       "      <td>0.000000</td>\n",
       "      <td>0.000000</td>\n",
       "      <td>0.0</td>\n",
       "      <td>0.0</td>\n",
       "      <td>0.000000</td>\n",
       "      <td>0.2</td>\n",
       "      <td>0.00</td>\n",
       "    </tr>\n",
       "  </tbody>\n",
       "</table>\n",
       "<p>110054 rows × 42 columns</p>\n",
       "</div>"
      ],
      "text/plain": [
       "        created_at  image_count   mileage      year  brand_0  brand_1  \\\n",
       "0         0.982036     0.000000  0.548700  0.517241      0.0      0.0   \n",
       "1         0.868263     0.214286  0.263702  0.206897      0.0      0.0   \n",
       "2         0.646707     0.285714  0.932665  0.862069      0.0      0.0   \n",
       "3         0.658683     0.214286  0.104917  0.620690      0.0      0.0   \n",
       "4         0.658683     0.142857  0.032884  0.931034      1.0      0.0   \n",
       "...            ...          ...       ...       ...      ...      ...   \n",
       "110049    0.736527     0.142857  0.257438  0.827586      0.0      0.0   \n",
       "110050    0.772455     0.214286  0.166301  0.620690      0.0      0.0   \n",
       "110051    0.892216     0.142857  0.330097  0.931034      0.0      0.0   \n",
       "110052    0.604790     0.285714  0.088005  0.448276      0.0      0.0   \n",
       "110053    0.041916     0.214286  0.745067  0.931034      0.0      0.0   \n",
       "\n",
       "        brand_2  brand_3  brand_4  brand_5  ...    دوگانه  روکش  تخفیف  \\\n",
       "0           0.0      0.0      0.0      0.0  ...  0.000000  0.00    0.0   \n",
       "1           0.0      0.0      0.0      0.0  ...  0.333333  0.00    0.0   \n",
       "2           0.0      0.0      0.0      0.0  ...  0.000000  0.00    0.0   \n",
       "3           0.0      0.0      0.0      0.0  ...  0.000000  0.00    0.2   \n",
       "4           0.0      0.0      0.0      0.0  ...  0.000000  0.00    0.2   \n",
       "...         ...      ...      ...      ...  ...       ...   ...    ...   \n",
       "110049      0.0      1.0      0.0      0.0  ...  0.000000  0.25    0.0   \n",
       "110050      0.0      0.0      0.0      0.0  ...  0.000000  0.00    0.0   \n",
       "110051      0.0      0.0      0.0      0.0  ...  0.000000  0.00    0.2   \n",
       "110052      0.0      0.0      0.0      0.0  ...  0.000000  0.00    0.0   \n",
       "110053      0.0      0.0      0.0      0.0  ...  0.333333  0.25    0.0   \n",
       "\n",
       "              نو       رنگ  وانت  مدادی      سالم  بیمه  سفید  \n",
       "0       0.000000  0.000000   0.0    0.0  0.000000   0.4  0.00  \n",
       "1       0.111111  0.000000   0.0    0.0  0.142857   0.0  0.00  \n",
       "2       0.000000  0.166667   0.0    0.0  0.000000   0.0  0.00  \n",
       "3       0.000000  0.166667   0.0    0.0  0.142857   0.2  0.00  \n",
       "4       0.000000  0.166667   0.0    0.0  0.142857   0.2  0.00  \n",
       "...          ...       ...   ...    ...       ...   ...   ...  \n",
       "110049  0.000000  0.166667   0.0    0.0  0.142857   0.0  0.00  \n",
       "110050  0.000000  0.166667   0.0    0.0  0.000000   0.2  0.00  \n",
       "110051  0.000000  0.166667   0.0    0.0  0.000000   0.2  0.25  \n",
       "110052  0.000000  0.166667   0.0    0.0  0.285714   0.4  0.00  \n",
       "110053  0.000000  0.000000   0.0    0.0  0.000000   0.2  0.00  \n",
       "\n",
       "[110054 rows x 42 columns]"
      ]
     },
     "execution_count": 32,
     "metadata": {},
     "output_type": "execute_result"
    }
   ],
   "source": [
    "X"
   ]
  },
  {
   "cell_type": "code",
   "execution_count": 33,
   "metadata": {
    "scrolled": false
   },
   "outputs": [
    {
     "data": {
      "text/plain": [
       "0          8500000\n",
       "1         19500000\n",
       "2         23900000\n",
       "3          8500000\n",
       "4         18500000\n",
       "            ...   \n",
       "110049    30000000\n",
       "110050    11000000\n",
       "110051    48000000\n",
       "110052     6900000\n",
       "110053    17400000\n",
       "Name: price, Length: 110054, dtype: int64"
      ]
     },
     "execution_count": 33,
     "metadata": {},
     "output_type": "execute_result"
    }
   ],
   "source": [
    "y"
   ]
  },
  {
   "cell_type": "markdown",
   "metadata": {},
   "source": [
    "# Testing"
   ]
  },
  {
   "cell_type": "code",
   "execution_count": 103,
   "metadata": {},
   "outputs": [],
   "source": [
    "from sklearn.metrics import mean_squared_error\n",
    "from sklearn.neighbors import KNeighborsRegressor\n",
    "from sklearn.linear_model import LinearRegression\n",
    "from sklearn import tree\n",
    "from sklearn.ensemble import RandomForestRegressor\n",
    "\n",
    "from matplotlib import pyplot as plt"
   ]
  },
  {
   "cell_type": "markdown",
   "metadata": {},
   "source": [
    "### K Nearest Neighbors:"
   ]
  },
  {
   "cell_type": "code",
   "execution_count": 39,
   "metadata": {},
   "outputs": [],
   "source": [
    "X_train, X_test, y_train, y_test = train_test_split(X, y, test_size = 0.3, random_state = 0)\n",
    "\n",
    "KNN = KNeighborsRegressor(n_neighbors = 277)\n",
    "KNN.fit(X_train, y_train)\n",
    "price_KNN = KNN.predict(X_test)"
   ]
  },
  {
   "cell_type": "code",
   "execution_count": 58,
   "metadata": {
    "scrolled": true
   },
   "outputs": [
    {
     "name": "stdout",
     "output_type": "stream",
     "text": [
      "RMSE: 20494922.70176875\n",
      "MSE: 420041856551476.06\n"
     ]
    }
   ],
   "source": [
    "from sklearn.metrics import mean_squared_error\n",
    "print('RMSE:', mean_squared_error(price_KNN, y_test, squared = False))\n",
    "print('MSE:', mean_squared_error(price_KNN, y_test, squared = True))"
   ]
  },
  {
   "cell_type": "markdown",
   "metadata": {},
   "source": [
    "The result above is for: 80% Train, 20% Test\n"
   ]
  },
  {
   "cell_type": "markdown",
   "metadata": {},
   "source": [
    "### Linear Regression"
   ]
  },
  {
   "cell_type": "code",
   "execution_count": 87,
   "metadata": {},
   "outputs": [],
   "source": [
    "X_train, X_test, y_train, y_test = train_test_split(X, y, test_size = 0.25, random_state = 0)\n",
    "\n",
    "lin_reg = LinearRegression()\n",
    "lin_reg.fit(X_train, y_train)\n",
    "price_lin = lin_reg.predict(X_test)"
   ]
  },
  {
   "cell_type": "code",
   "execution_count": 88,
   "metadata": {
    "scrolled": false
   },
   "outputs": [
    {
     "name": "stdout",
     "output_type": "stream",
     "text": [
      "RMSE: 20631572.543875776\n",
      "MSE: 425661785633208.75\n",
      "Train: 75%    Test: 25%\n"
     ]
    }
   ],
   "source": [
    "print('RMSE:', mean_squared_error(price_lin, y_test, squared = False))\n",
    "print('MSE:', mean_squared_error(price_lin, y_test, squared = True))\n",
    "print(\"Train: 75%    Test: 25%\")"
   ]
  },
  {
   "cell_type": "code",
   "execution_count": 89,
   "metadata": {},
   "outputs": [],
   "source": [
    "X_train, X_test, y_train, y_test = train_test_split(X, y, test_size = 0.02, random_state = 0)\n",
    "\n",
    "lin_reg = LinearRegression()\n",
    "lin_reg.fit(X_train, y_train)\n",
    "price_lin = lin_reg.predict(X_test)"
   ]
  },
  {
   "cell_type": "code",
   "execution_count": 90,
   "metadata": {
    "scrolled": true
   },
   "outputs": [
    {
     "name": "stdout",
     "output_type": "stream",
     "text": [
      "RMSE: 21032410.180147715\n",
      "MSE: 442362277985981.2\n",
      "Train: 98%    Test: 2%\n"
     ]
    }
   ],
   "source": [
    "print('RMSE:', mean_squared_error(price_lin, y_test, squared = False))\n",
    "print('MSE:', mean_squared_error(price_lin, y_test, squared = True))\n",
    "print(\"Train: 98%    Test: 2%\")"
   ]
  },
  {
   "cell_type": "markdown",
   "metadata": {},
   "source": [
    "**Overfitting**: The model corresponds too closely to fit e train data. Therefore, it does not work well on the test data which is new. "
   ]
  },
  {
   "cell_type": "code",
   "execution_count": 91,
   "metadata": {},
   "outputs": [],
   "source": [
    "X_train, X_test, y_train, y_test = train_test_split(X, y, test_size = 0.6, random_state = 0)\n",
    "\n",
    "lin_reg = LinearRegression()\n",
    "lin_reg.fit(X_train, y_train)\n",
    "price_lin = lin_reg.predict(X_test)"
   ]
  },
  {
   "cell_type": "code",
   "execution_count": 92,
   "metadata": {
    "scrolled": true
   },
   "outputs": [
    {
     "name": "stdout",
     "output_type": "stream",
     "text": [
      "RMSE: 20768680.052683786\n",
      "MSE: 431338071130745.44\n",
      "Train: 60%    Test: 40%\n"
     ]
    }
   ],
   "source": [
    "print('RMSE:', mean_squared_error(price_lin, y_test, squared = False))\n",
    "print('MSE:', mean_squared_error(price_lin, y_test, squared = True))\n",
    "print(\"Train: 60%    Test: 40%\")"
   ]
  },
  {
   "cell_type": "markdown",
   "metadata": {},
   "source": [
    "**Underfitting**: The model could have been trained better if we provided it with more train data. "
   ]
  },
  {
   "cell_type": "markdown",
   "metadata": {},
   "source": [
    "#### Q5) \n",
    "As it can be seen, the case where we splitted the data as **75% train** and **25% train**, we achieved **the least RMSE** in compare to the other cases where we had over/under-fitting"
   ]
  },
  {
   "cell_type": "markdown",
   "metadata": {},
   "source": [
    "### Decision Trees"
   ]
  },
  {
   "cell_type": "code",
   "execution_count": 101,
   "metadata": {
    "scrolled": false
   },
   "outputs": [
    {
     "data": {
      "image/png": "[encoded data removed]",
      "text/plain": [
       "<Figure size 432x288 with 1 Axes>"
      ]
     },
     "metadata": {
      "needs_background": "light"
     },
     "output_type": "display_data"
    }
   ],
   "source": [
    "X_train, X_test, y_train, y_test = train_test_split(X, y, test_size = 0.25, random_state = 0)\n",
    "\n",
    "\n",
    "n = [i for i in range(3, 40)]\n",
    "err = [0 for i in range(3, 40)]\n",
    "\n",
    "for i in range(len(n)):\n",
    "    decision_tree = tree.DecisionTreeRegressor(max_depth = n[i], min_samples_split = 2)\n",
    "    decision_tree.fit(X_train, y_train)\n",
    "    price_decision_tree = decision_tree.predict(X_test)\n",
    "    err[i] = mean_squared_error(price_decision_tree, y_test, squared = False)\n",
    "\n",
    "plt.plot(n, err)\n",
    "plt.show()"
   ]
  },
  {
   "cell_type": "markdown",
   "metadata": {},
   "source": [
    "#### Q6)\n",
    "A too shallow decision tree --> underfitting\n",
    "\n",
    "A too deep decision tree --> overfitting\n",
    "\n",
    "The optimal depth for the decision tree seems to be 8-9 according to the plot."
   ]
  },
  {
   "cell_type": "markdown",
   "metadata": {},
   "source": [
    "### Random Forsest"
   ]
  },
  {
   "cell_type": "code",
   "execution_count": 109,
   "metadata": {},
   "outputs": [],
   "source": [
    "X_train, X_test, y_train, y_test = train_test_split(X, y, test_size = 0.25, random_state = 0)\n",
    "\n",
    "random_forest = RandomForestRegressor(bootstrap = True, n_estimators = 200, max_samples = 50000, max_depth = 12, min_samples_split = 10)\n",
    "random_forest.fit(X_train, y_train)\n",
    "price_random_forest = random_forest.predict(X_test)"
   ]
  },
  {
   "cell_type": "code",
   "execution_count": 114,
   "metadata": {},
   "outputs": [
    {
     "name": "stdout",
     "output_type": "stream",
     "text": [
      "RMSE: 18825917.198891293\n",
      "n_estimators: 200   max_depth: 12\n"
     ]
    }
   ],
   "source": [
    "print('RMSE:', mean_squared_error(price_random_forest, y_test, squared = False))\n",
    "print('n_estimators: 200   max_depth: 12')"
   ]
  },
  {
   "cell_type": "code",
   "execution_count": 115,
   "metadata": {},
   "outputs": [],
   "source": [
    "random_forest = RandomForestRegressor(bootstrap = True, n_estimators = 20, max_samples = 50000, max_depth = 12, min_samples_split = 10)\n",
    "random_forest.fit(X_train, y_train)\n",
    "price_random_forest = random_forest.predict(X_test)"
   ]
  },
  {
   "cell_type": "code",
   "execution_count": 116,
   "metadata": {
    "scrolled": true
   },
   "outputs": [
    {
     "name": "stdout",
     "output_type": "stream",
     "text": [
      "RMSE: 18948778.5041513\n",
      "n_estimators: 20   max_depth: 12\n"
     ]
    }
   ],
   "source": [
    "print('RMSE:', mean_squared_error(price_random_forest, y_test, squared = False))\n",
    "print('n_estimators: 20   max_depth: 12')"
   ]
  },
  {
   "cell_type": "markdown",
   "metadata": {},
   "source": [
    "Decreasing the number of estimators, increases RMSE. "
   ]
  },
  {
   "cell_type": "code",
   "execution_count": 117,
   "metadata": {},
   "outputs": [],
   "source": [
    "random_forest = RandomForestRegressor(bootstrap = True, n_estimators = 200, max_samples = 50000, max_depth = 6, min_samples_split = 10)\n",
    "random_forest.fit(X_train, y_train)\n",
    "price_random_forest = random_forest.predict(X_test)"
   ]
  },
  {
   "cell_type": "code",
   "execution_count": 118,
   "metadata": {},
   "outputs": [
    {
     "name": "stdout",
     "output_type": "stream",
     "text": [
      "RMSE: 20782348.73238285\n",
      "n_estimators: 20   max_depth: 6\n"
     ]
    }
   ],
   "source": [
    "print('RMSE:', mean_squared_error(price_random_forest, y_test, squared = False))\n",
    "print('n_estimators: 20   max_depth: 6')"
   ]
  },
  {
   "cell_type": "markdown",
   "metadata": {},
   "source": [
    "Decreasing the max_depth, increases RMSE. "
   ]
  },
  {
   "cell_type": "markdown",
   "metadata": {},
   "source": [
    "#### Q7)\n",
    "A random forest has a higher variance and lower bias in compare to a single decision tree. Each tree in a random forest will have a higher bias because it has a smaller dataset. A random forest will be a better model if the amount of variance reduction overweights the bias increase of each tree."
   ]
  }
 ],
 "metadata": {
  "kernelspec": {
   "display_name": "Python 3.8.3 64-bit ('base')",
   "language": "python",
   "name": "python38364bitbase7b9a83250b18425396d3e16f0fb4cd8f"
  },
  "language_info": {
   "codemirror_mode": {
    "name": "ipython",
    "version": 3
   },
   "file_extension": ".py",
   "mimetype": "text/x-python",
   "name": "python",
   "nbconvert_exporter": "python",
   "pygments_lexer": "ipython3",
   "version": "3.7.6"
  }
 },
 "nbformat": 4,
 "nbformat_minor": 4
}
